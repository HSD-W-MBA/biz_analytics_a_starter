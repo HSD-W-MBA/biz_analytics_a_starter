{
 "cells": [
  {
   "cell_type": "code",
   "execution_count": 1,
   "metadata": {
    "collapsed": true
   },
   "outputs": [],
   "source": [
    "import pandas as pd"
   ]
  },
  {
   "cell_type": "code",
   "execution_count": 6,
   "outputs": [],
   "source": [
    "data = pd.read_stata('../data/external/ZA6647_v1-0-0.dta')"
   ],
   "metadata": {
    "collapsed": false,
    "pycharm": {
     "name": "#%%\n"
    }
   }
  },
  {
   "cell_type": "code",
   "execution_count": 7,
   "outputs": [
    {
     "data": {
      "text/plain": "               studyno                  doi             version  \\\n0  GESIS STUDY ID 6647  doi:10.4232/1.12515  1.0.0 (2016-04-21)   \n1  GESIS STUDY ID 6647  doi:10.4232/1.12515  1.0.0 (2016-04-21)   \n2  GESIS STUDY ID 6647  doi:10.4232/1.12515  1.0.0 (2016-04-21)   \n3  GESIS STUDY ID 6647  doi:10.4232/1.12515  1.0.0 (2016-04-21)   \n4  GESIS STUDY ID 6647  doi:10.4232/1.12515  1.0.0 (2016-04-21)   \n\n           edition                                    survey  caseid   uniqid  \\\n0  ARCHIVE RELEASE  Flash Eurobarometer 425 (September 2015)       1  1000001   \n1  ARCHIVE RELEASE  Flash Eurobarometer 425 (September 2015)       2  1000002   \n2  ARCHIVE RELEASE  Flash Eurobarometer 425 (September 2015)       3  1000003   \n3  ARCHIVE RELEASE  Flash Eurobarometer 425 (September 2015)       4  1000004   \n4  ARCHIVE RELEASE  Flash Eurobarometer 425 (September 2015)       5  1000005   \n\n   tnscntry       country isocntry  ...  w82  w84       w89  w90       w95  \\\n0  BELGIQUE  BE - Belgium       BE  ...  0.0  0.0  0.377414  0.0  0.399552   \n1  BELGIQUE  BE - Belgium       BE  ...  0.0  0.0  0.398224  0.0  0.421584   \n2  BELGIQUE  BE - Belgium       BE  ...  0.0  0.0  0.203295  0.0  0.215220   \n3  BELGIQUE  BE - Belgium       BE  ...  0.0  0.0  0.313204  0.0  0.331576   \n4  BELGIQUE  BE - Belgium       BE  ...  0.0  0.0  0.384786  0.0  0.407357   \n\n   w96       w97  w83  w98          wex  \n0  0.0  0.419225  0.0  0.0  6446.127930  \n1  0.0  0.442341  0.0  0.0  6801.566895  \n2  0.0  0.225817  0.0  0.0  3472.228516  \n3  0.0  0.347902  0.0  0.0  5349.446777  \n4  0.0  0.427415  0.0  0.0  6572.049805  \n\n[5 rows x 165 columns]",
      "text/html": "<div>\n<style scoped>\n    .dataframe tbody tr th:only-of-type {\n        vertical-align: middle;\n    }\n\n    .dataframe tbody tr th {\n        vertical-align: top;\n    }\n\n    .dataframe thead th {\n        text-align: right;\n    }\n</style>\n<table border=\"1\" class=\"dataframe\">\n  <thead>\n    <tr style=\"text-align: right;\">\n      <th></th>\n      <th>studyno</th>\n      <th>doi</th>\n      <th>version</th>\n      <th>edition</th>\n      <th>survey</th>\n      <th>caseid</th>\n      <th>uniqid</th>\n      <th>tnscntry</th>\n      <th>country</th>\n      <th>isocntry</th>\n      <th>...</th>\n      <th>w82</th>\n      <th>w84</th>\n      <th>w89</th>\n      <th>w90</th>\n      <th>w95</th>\n      <th>w96</th>\n      <th>w97</th>\n      <th>w83</th>\n      <th>w98</th>\n      <th>wex</th>\n    </tr>\n  </thead>\n  <tbody>\n    <tr>\n      <th>0</th>\n      <td>GESIS STUDY ID 6647</td>\n      <td>doi:10.4232/1.12515</td>\n      <td>1.0.0 (2016-04-21)</td>\n      <td>ARCHIVE RELEASE</td>\n      <td>Flash Eurobarometer 425 (September 2015)</td>\n      <td>1</td>\n      <td>1000001</td>\n      <td>BELGIQUE</td>\n      <td>BE - Belgium</td>\n      <td>BE</td>\n      <td>...</td>\n      <td>0.0</td>\n      <td>0.0</td>\n      <td>0.377414</td>\n      <td>0.0</td>\n      <td>0.399552</td>\n      <td>0.0</td>\n      <td>0.419225</td>\n      <td>0.0</td>\n      <td>0.0</td>\n      <td>6446.127930</td>\n    </tr>\n    <tr>\n      <th>1</th>\n      <td>GESIS STUDY ID 6647</td>\n      <td>doi:10.4232/1.12515</td>\n      <td>1.0.0 (2016-04-21)</td>\n      <td>ARCHIVE RELEASE</td>\n      <td>Flash Eurobarometer 425 (September 2015)</td>\n      <td>2</td>\n      <td>1000002</td>\n      <td>BELGIQUE</td>\n      <td>BE - Belgium</td>\n      <td>BE</td>\n      <td>...</td>\n      <td>0.0</td>\n      <td>0.0</td>\n      <td>0.398224</td>\n      <td>0.0</td>\n      <td>0.421584</td>\n      <td>0.0</td>\n      <td>0.442341</td>\n      <td>0.0</td>\n      <td>0.0</td>\n      <td>6801.566895</td>\n    </tr>\n    <tr>\n      <th>2</th>\n      <td>GESIS STUDY ID 6647</td>\n      <td>doi:10.4232/1.12515</td>\n      <td>1.0.0 (2016-04-21)</td>\n      <td>ARCHIVE RELEASE</td>\n      <td>Flash Eurobarometer 425 (September 2015)</td>\n      <td>3</td>\n      <td>1000003</td>\n      <td>BELGIQUE</td>\n      <td>BE - Belgium</td>\n      <td>BE</td>\n      <td>...</td>\n      <td>0.0</td>\n      <td>0.0</td>\n      <td>0.203295</td>\n      <td>0.0</td>\n      <td>0.215220</td>\n      <td>0.0</td>\n      <td>0.225817</td>\n      <td>0.0</td>\n      <td>0.0</td>\n      <td>3472.228516</td>\n    </tr>\n    <tr>\n      <th>3</th>\n      <td>GESIS STUDY ID 6647</td>\n      <td>doi:10.4232/1.12515</td>\n      <td>1.0.0 (2016-04-21)</td>\n      <td>ARCHIVE RELEASE</td>\n      <td>Flash Eurobarometer 425 (September 2015)</td>\n      <td>4</td>\n      <td>1000004</td>\n      <td>BELGIQUE</td>\n      <td>BE - Belgium</td>\n      <td>BE</td>\n      <td>...</td>\n      <td>0.0</td>\n      <td>0.0</td>\n      <td>0.313204</td>\n      <td>0.0</td>\n      <td>0.331576</td>\n      <td>0.0</td>\n      <td>0.347902</td>\n      <td>0.0</td>\n      <td>0.0</td>\n      <td>5349.446777</td>\n    </tr>\n    <tr>\n      <th>4</th>\n      <td>GESIS STUDY ID 6647</td>\n      <td>doi:10.4232/1.12515</td>\n      <td>1.0.0 (2016-04-21)</td>\n      <td>ARCHIVE RELEASE</td>\n      <td>Flash Eurobarometer 425 (September 2015)</td>\n      <td>5</td>\n      <td>1000005</td>\n      <td>BELGIQUE</td>\n      <td>BE - Belgium</td>\n      <td>BE</td>\n      <td>...</td>\n      <td>0.0</td>\n      <td>0.0</td>\n      <td>0.384786</td>\n      <td>0.0</td>\n      <td>0.407357</td>\n      <td>0.0</td>\n      <td>0.427415</td>\n      <td>0.0</td>\n      <td>0.0</td>\n      <td>6572.049805</td>\n    </tr>\n  </tbody>\n</table>\n<p>5 rows × 165 columns</p>\n</div>"
     },
     "execution_count": 7,
     "metadata": {},
     "output_type": "execute_result"
    }
   ],
   "source": [
    "data.head()"
   ],
   "metadata": {
    "collapsed": false,
    "pycharm": {
     "name": "#%%\n"
    }
   }
  },
  {
   "cell_type": "code",
   "execution_count": 8,
   "outputs": [
    {
     "data": {
      "text/plain": "Int64Index([    0,     1,     2,     3,     4,     5,     6,     7,     8,\n                9,\n            ...\n            26591, 26592, 26593, 26594, 26595, 26596, 26597, 26598, 26599,\n            26600],\n           dtype='int64', length=26601)"
     },
     "execution_count": 8,
     "metadata": {},
     "output_type": "execute_result"
    }
   ],
   "source": [
    "# Index auslesen\n",
    "data.index"
   ],
   "metadata": {
    "collapsed": false,
    "pycharm": {
     "name": "#%%\n"
    }
   }
  },
  {
   "cell_type": "code",
   "execution_count": 12,
   "outputs": [
    {
     "data": {
      "text/plain": "Index(['studyno', 'doi', 'version', 'edition', 'survey', 'caseid', 'uniqid',\n       'tnscntry', 'country', 'isocntry',\n       ...\n       'w82', 'w84', 'w89', 'w90', 'w95', 'w96', 'w97', 'w83', 'w98', 'wex'],\n      dtype='object', length=165)"
     },
     "execution_count": 12,
     "metadata": {},
     "output_type": "execute_result"
    }
   ],
   "source": [
    "# Spalten auslesen\n",
    "data.columns"
   ],
   "metadata": {
    "collapsed": false,
    "pycharm": {
     "name": "#%%\n"
    }
   }
  },
  {
   "cell_type": "code",
   "execution_count": 13,
   "outputs": [
    {
     "data": {
      "text/plain": "['studyno',\n 'doi',\n 'version',\n 'edition',\n 'survey',\n 'caseid',\n 'uniqid',\n 'tnscntry',\n 'country',\n 'isocntry',\n 'mode',\n 'q1_1',\n 'q1_2',\n 'q1_3',\n 'q1_4',\n 'q1_5',\n 'q1_6',\n 'q1_7',\n 'q2_1',\n 'q2_2',\n 'q2_3',\n 'q2_4',\n 'q2_5',\n 'q2_6',\n 'q2_7',\n 'q2_8',\n 'q3',\n 'q4',\n 'q5',\n 'q6',\n 'q7',\n 'q8',\n 'd1',\n 'd1r1',\n 'd1r2',\n 'd2',\n 'd3a_1',\n 'd3a_2',\n 'd3a_3',\n 'd3a_4',\n 'd3a_5',\n 'd3a_6',\n 'd3a_7',\n 'd3a_8',\n 'd3a_9',\n 'd3a_10',\n 'd3a_11',\n 'd3a_12',\n 'd3a_13',\n 'd3a_14',\n 'd3a_15',\n 'd3a_16',\n 'd3a_17',\n 'd3a_18',\n 'd3a_19',\n 'd3a_20',\n 'd3a_21',\n 'd3a_22',\n 'd3a_23',\n 'd3a_24',\n 'd3a_25',\n 'd3a_26',\n 'd3a_27',\n 'd3a_28',\n 'd3a_98',\n 'd3a_99',\n 'd3b',\n 'd4',\n 'd4r1',\n 'd4r2',\n 'd5',\n 'd5r',\n 'd13',\n 'd18',\n 'd20',\n 'd18_d20',\n 'd22',\n 'd22r',\n 'd12be',\n 'd12be_r',\n 'd12at',\n 'd12at_r',\n 'd12bg',\n 'd12cy',\n 'd12cz',\n 'd12dk',\n 'd12ee',\n 'd12de',\n 'd12gr',\n 'd12gr_r',\n 'd12es',\n 'd12es_r',\n 'd12fi',\n 'd12fr',\n 'd12fr_r',\n 'd12gb',\n 'd12hu',\n 'd12ie',\n 'd12it',\n 'd12it_r',\n 'd12lt',\n 'd12lu',\n 'd12lv',\n 'd12nl',\n 'd12nl_r',\n 'd12pl',\n 'd12pl_r',\n 'd12pt',\n 'd12ro',\n 'd12se',\n 'd12si',\n 'd12sk',\n 'd12mt',\n 'd12hr',\n 'eu6',\n 'eu9',\n 'eu10',\n 'eu12_2',\n 'eu_nms3',\n 'eu15',\n 'eu_nms10',\n 'eu25',\n 'eu_nms12',\n 'eu27',\n 'eu_nms13',\n 'eu28',\n 'euroz13',\n 'euroz15',\n 'euronz15',\n 'euroz16',\n 'euronz16',\n 'euroz17',\n 'euronz17',\n 'euroz18',\n 'euronz18',\n 'euronzms',\n 'euronznm',\n 'euroz19',\n 'euronz19',\n 'w1',\n 'w5',\n 'w6',\n 'w7',\n 'w9',\n 'w10',\n 'w11',\n 'w13',\n 'w14',\n 'w24',\n 'w22',\n 'w94',\n 'w23',\n 'w29',\n 'w30',\n 'w81',\n 'w82',\n 'w84',\n 'w89',\n 'w90',\n 'w95',\n 'w96',\n 'w97',\n 'w83',\n 'w98',\n 'wex']"
     },
     "execution_count": 13,
     "metadata": {},
     "output_type": "execute_result"
    }
   ],
   "source": [
    "# Spalten auslesen bessere Lesbarkeit\n",
    "list(data.columns)"
   ],
   "metadata": {
    "collapsed": false,
    "pycharm": {
     "name": "#%%\n"
    }
   }
  },
  {
   "cell_type": "code",
   "execution_count": 14,
   "outputs": [
    {
     "data": {
      "text/plain": "'BE - Belgium'"
     },
     "execution_count": 14,
     "metadata": {},
     "output_type": "execute_result"
    }
   ],
   "source": [
    "# Bestimmten Wert auslesen\n",
    "data.loc[2, 'country']"
   ],
   "metadata": {
    "collapsed": false,
    "pycharm": {
     "name": "#%%\n"
    }
   }
  },
  {
   "cell_type": "code",
   "execution_count": 15,
   "outputs": [
    {
     "data": {
      "text/plain": "'BE - Belgium'"
     },
     "execution_count": 15,
     "metadata": {},
     "output_type": "execute_result"
    }
   ],
   "source": [
    "# Bestimmten Wert mit numerischer Notation auslesen\n",
    "data.iloc[2,8]"
   ],
   "metadata": {
    "collapsed": false,
    "pycharm": {
     "name": "#%%\n"
    }
   }
  },
  {
   "cell_type": "code",
   "execution_count": 16,
   "outputs": [
    {
     "data": {
      "text/plain": "studyno    category\ndoi          object\nversion      object\nedition    category\nsurvey     category\n             ...   \nw96         float64\nw97         float64\nw83         float64\nw98         float64\nwex         float64\nLength: 165, dtype: object"
     },
     "execution_count": 16,
     "metadata": {},
     "output_type": "execute_result"
    }
   ],
   "source": [
    "# Datentypen der Spalten auslesen\n",
    "data.dtypes"
   ],
   "metadata": {
    "collapsed": false,
    "pycharm": {
     "name": "#%%\n"
    }
   }
  },
  {
   "cell_type": "code",
   "execution_count": 17,
   "outputs": [
    {
     "data": {
      "text/plain": "                   studyno                  doi             version  \\\n25173  GESIS STUDY ID 6647  doi:10.4232/1.12515  1.0.0 (2016-04-21)   \n18174  GESIS STUDY ID 6647  doi:10.4232/1.12515  1.0.0 (2016-04-21)   \n1849   GESIS STUDY ID 6647  doi:10.4232/1.12515  1.0.0 (2016-04-21)   \n15540  GESIS STUDY ID 6647  doi:10.4232/1.12515  1.0.0 (2016-04-21)   \n24356  GESIS STUDY ID 6647  doi:10.4232/1.12515  1.0.0 (2016-04-21)   \n\n               edition                                    survey  caseid  \\\n25173  ARCHIVE RELEASE  Flash Eurobarometer 425 (September 2015)   25174   \n18174  ARCHIVE RELEASE  Flash Eurobarometer 425 (September 2015)   18175   \n1849   ARCHIVE RELEASE  Flash Eurobarometer 425 (September 2015)    1850   \n15540  ARCHIVE RELEASE  Flash Eurobarometer 425 (September 2015)   15541   \n24356  ARCHIVE RELEASE  Flash Eurobarometer 425 (September 2015)   24357   \n\n         uniqid            tnscntry                 country isocntry  ...  \\\n25173  42025174           SLOVENIJA           SI - Slovenia       SI  ...   \n18174  35018175        MAGYARORSZAG            HU - Hungary       HU  ...   \n1849    2001850             DANMARK            DK - Denmark       DK  ...   \n15540  32015541              KYPROS  CY - Cyprus (Republic)       CY  ...   \n24356  41024357  SLOVENSKA REPUBLIC           SK - Slovakia       SK  ...   \n\n            w82       w84       w89       w90       w95       w96       w97  \\\n25173  0.000000  0.000000  0.257511  0.000000  0.272616  0.000000  0.286039   \n18174  1.638508  1.440078  0.000000  1.607205  0.000000  1.475640  0.000000   \n1849   0.219173  0.000000  0.000000  0.214986  0.000000  0.197387  0.000000   \n15540  0.000000  0.000000  0.067801  0.000000  0.071778  0.000000  0.075313   \n24356  0.000000  0.000000  0.161409  0.000000  0.170877  0.000000  0.179291   \n\n            w83       w98           wex  \n25173  0.000000  0.000000   4398.215820  \n18174  1.237390  1.354887  21380.603516  \n1849   0.165518  0.181235   2859.951904  \n15540  0.000000  0.000000   1158.028076  \n24356  0.000000  0.000000   2756.826660  \n\n[5 rows x 165 columns]",
      "text/html": "<div>\n<style scoped>\n    .dataframe tbody tr th:only-of-type {\n        vertical-align: middle;\n    }\n\n    .dataframe tbody tr th {\n        vertical-align: top;\n    }\n\n    .dataframe thead th {\n        text-align: right;\n    }\n</style>\n<table border=\"1\" class=\"dataframe\">\n  <thead>\n    <tr style=\"text-align: right;\">\n      <th></th>\n      <th>studyno</th>\n      <th>doi</th>\n      <th>version</th>\n      <th>edition</th>\n      <th>survey</th>\n      <th>caseid</th>\n      <th>uniqid</th>\n      <th>tnscntry</th>\n      <th>country</th>\n      <th>isocntry</th>\n      <th>...</th>\n      <th>w82</th>\n      <th>w84</th>\n      <th>w89</th>\n      <th>w90</th>\n      <th>w95</th>\n      <th>w96</th>\n      <th>w97</th>\n      <th>w83</th>\n      <th>w98</th>\n      <th>wex</th>\n    </tr>\n  </thead>\n  <tbody>\n    <tr>\n      <th>25173</th>\n      <td>GESIS STUDY ID 6647</td>\n      <td>doi:10.4232/1.12515</td>\n      <td>1.0.0 (2016-04-21)</td>\n      <td>ARCHIVE RELEASE</td>\n      <td>Flash Eurobarometer 425 (September 2015)</td>\n      <td>25174</td>\n      <td>42025174</td>\n      <td>SLOVENIJA</td>\n      <td>SI - Slovenia</td>\n      <td>SI</td>\n      <td>...</td>\n      <td>0.000000</td>\n      <td>0.000000</td>\n      <td>0.257511</td>\n      <td>0.000000</td>\n      <td>0.272616</td>\n      <td>0.000000</td>\n      <td>0.286039</td>\n      <td>0.000000</td>\n      <td>0.000000</td>\n      <td>4398.215820</td>\n    </tr>\n    <tr>\n      <th>18174</th>\n      <td>GESIS STUDY ID 6647</td>\n      <td>doi:10.4232/1.12515</td>\n      <td>1.0.0 (2016-04-21)</td>\n      <td>ARCHIVE RELEASE</td>\n      <td>Flash Eurobarometer 425 (September 2015)</td>\n      <td>18175</td>\n      <td>35018175</td>\n      <td>MAGYARORSZAG</td>\n      <td>HU - Hungary</td>\n      <td>HU</td>\n      <td>...</td>\n      <td>1.638508</td>\n      <td>1.440078</td>\n      <td>0.000000</td>\n      <td>1.607205</td>\n      <td>0.000000</td>\n      <td>1.475640</td>\n      <td>0.000000</td>\n      <td>1.237390</td>\n      <td>1.354887</td>\n      <td>21380.603516</td>\n    </tr>\n    <tr>\n      <th>1849</th>\n      <td>GESIS STUDY ID 6647</td>\n      <td>doi:10.4232/1.12515</td>\n      <td>1.0.0 (2016-04-21)</td>\n      <td>ARCHIVE RELEASE</td>\n      <td>Flash Eurobarometer 425 (September 2015)</td>\n      <td>1850</td>\n      <td>2001850</td>\n      <td>DANMARK</td>\n      <td>DK - Denmark</td>\n      <td>DK</td>\n      <td>...</td>\n      <td>0.219173</td>\n      <td>0.000000</td>\n      <td>0.000000</td>\n      <td>0.214986</td>\n      <td>0.000000</td>\n      <td>0.197387</td>\n      <td>0.000000</td>\n      <td>0.165518</td>\n      <td>0.181235</td>\n      <td>2859.951904</td>\n    </tr>\n    <tr>\n      <th>15540</th>\n      <td>GESIS STUDY ID 6647</td>\n      <td>doi:10.4232/1.12515</td>\n      <td>1.0.0 (2016-04-21)</td>\n      <td>ARCHIVE RELEASE</td>\n      <td>Flash Eurobarometer 425 (September 2015)</td>\n      <td>15541</td>\n      <td>32015541</td>\n      <td>KYPROS</td>\n      <td>CY - Cyprus (Republic)</td>\n      <td>CY</td>\n      <td>...</td>\n      <td>0.000000</td>\n      <td>0.000000</td>\n      <td>0.067801</td>\n      <td>0.000000</td>\n      <td>0.071778</td>\n      <td>0.000000</td>\n      <td>0.075313</td>\n      <td>0.000000</td>\n      <td>0.000000</td>\n      <td>1158.028076</td>\n    </tr>\n    <tr>\n      <th>24356</th>\n      <td>GESIS STUDY ID 6647</td>\n      <td>doi:10.4232/1.12515</td>\n      <td>1.0.0 (2016-04-21)</td>\n      <td>ARCHIVE RELEASE</td>\n      <td>Flash Eurobarometer 425 (September 2015)</td>\n      <td>24357</td>\n      <td>41024357</td>\n      <td>SLOVENSKA REPUBLIC</td>\n      <td>SK - Slovakia</td>\n      <td>SK</td>\n      <td>...</td>\n      <td>0.000000</td>\n      <td>0.000000</td>\n      <td>0.161409</td>\n      <td>0.000000</td>\n      <td>0.170877</td>\n      <td>0.000000</td>\n      <td>0.179291</td>\n      <td>0.000000</td>\n      <td>0.000000</td>\n      <td>2756.826660</td>\n    </tr>\n  </tbody>\n</table>\n<p>5 rows × 165 columns</p>\n</div>"
     },
     "execution_count": 17,
     "metadata": {},
     "output_type": "execute_result"
    }
   ],
   "source": [
    "# 5 Zeilen zufällig aus dem DataFrame auswählen\n",
    "data.sample(5)"
   ],
   "metadata": {
    "collapsed": false,
    "pycharm": {
     "name": "#%%\n"
    }
   }
  },
  {
   "cell_type": "code",
   "execution_count": 18,
   "outputs": [
    {
     "data": {
      "text/plain": "       caseid    uniqid  tnscntry              country isocntry  \\\n7609     7610   9007610    ITALIA           IT - Italy       IT   \n4644     4645   6004645     SUOMI         FI - Finland       FI   \n20058   20059  37020059   LIETUVA       LT - Lithuania       LT   \n13868   13869  15013869        UK  GB - United Kingdom       GB   \n11049   11050  13011050  PORTUGAL        PT - Portugal       PT   \n\n                       mode           q1_1                q1_2  \\\n7609      Mobile phone line  Not mentioned       Not mentioned   \n4644      Mobile phone line  Not mentioned  Food manufacturers   \n20058  Fixed telephone line        Farmers       Not mentioned   \n13868  Fixed telephone line        Farmers  Food manufacturers   \n11049  Fixed telephone line        Farmers  Food manufacturers   \n\n                      q1_3                                      q1_4  ...  \\\n7609   Shops and retailers  no  Hospitality and food service sectors  ...   \n4644   Shops and retailers  no  Hospitality and food service sectors  ...   \n20058        Not mentioned                             Not mentioned  ...   \n13868  Shops and retailers  no  Hospitality and food service sectors  ...   \n11049  Shops and retailers  no  Hospitality and food service sectors  ...   \n\n            w82  w84       w89       w90       w95       w96       w97  \\\n7609   0.000000  0.0  1.939347  0.000000  2.053107  0.000000  2.154197   \n4644   0.000000  0.0  0.200278  0.000000  0.212026  0.000000  0.222466   \n20058  0.557824  0.0  0.000000  0.547167  0.000000  0.502376  0.473388   \n13868  7.124311  0.0  0.000000  6.988205  0.000000  6.416151  0.000000   \n11049  0.000000  0.0  0.340113  0.000000  0.360064  0.000000  0.377793   \n\n            w83       w98           wex  \n7609   0.000000  0.000000  33123.546875  \n4644   0.000000  0.000000   3420.700439  \n20058  0.000000  0.000000   7278.943848  \n13868  5.380231  5.891114  92963.890625  \n11049  0.000000  0.000000   5809.047363  \n\n[5 rows x 160 columns]",
      "text/html": "<div>\n<style scoped>\n    .dataframe tbody tr th:only-of-type {\n        vertical-align: middle;\n    }\n\n    .dataframe tbody tr th {\n        vertical-align: top;\n    }\n\n    .dataframe thead th {\n        text-align: right;\n    }\n</style>\n<table border=\"1\" class=\"dataframe\">\n  <thead>\n    <tr style=\"text-align: right;\">\n      <th></th>\n      <th>caseid</th>\n      <th>uniqid</th>\n      <th>tnscntry</th>\n      <th>country</th>\n      <th>isocntry</th>\n      <th>mode</th>\n      <th>q1_1</th>\n      <th>q1_2</th>\n      <th>q1_3</th>\n      <th>q1_4</th>\n      <th>...</th>\n      <th>w82</th>\n      <th>w84</th>\n      <th>w89</th>\n      <th>w90</th>\n      <th>w95</th>\n      <th>w96</th>\n      <th>w97</th>\n      <th>w83</th>\n      <th>w98</th>\n      <th>wex</th>\n    </tr>\n  </thead>\n  <tbody>\n    <tr>\n      <th>7609</th>\n      <td>7610</td>\n      <td>9007610</td>\n      <td>ITALIA</td>\n      <td>IT - Italy</td>\n      <td>IT</td>\n      <td>Mobile phone line</td>\n      <td>Not mentioned</td>\n      <td>Not mentioned</td>\n      <td>Shops and retailers</td>\n      <td>no  Hospitality and food service sectors</td>\n      <td>...</td>\n      <td>0.000000</td>\n      <td>0.0</td>\n      <td>1.939347</td>\n      <td>0.000000</td>\n      <td>2.053107</td>\n      <td>0.000000</td>\n      <td>2.154197</td>\n      <td>0.000000</td>\n      <td>0.000000</td>\n      <td>33123.546875</td>\n    </tr>\n    <tr>\n      <th>4644</th>\n      <td>4645</td>\n      <td>6004645</td>\n      <td>SUOMI</td>\n      <td>FI - Finland</td>\n      <td>FI</td>\n      <td>Mobile phone line</td>\n      <td>Not mentioned</td>\n      <td>Food manufacturers</td>\n      <td>Shops and retailers</td>\n      <td>no  Hospitality and food service sectors</td>\n      <td>...</td>\n      <td>0.000000</td>\n      <td>0.0</td>\n      <td>0.200278</td>\n      <td>0.000000</td>\n      <td>0.212026</td>\n      <td>0.000000</td>\n      <td>0.222466</td>\n      <td>0.000000</td>\n      <td>0.000000</td>\n      <td>3420.700439</td>\n    </tr>\n    <tr>\n      <th>20058</th>\n      <td>20059</td>\n      <td>37020059</td>\n      <td>LIETUVA</td>\n      <td>LT - Lithuania</td>\n      <td>LT</td>\n      <td>Fixed telephone line</td>\n      <td>Farmers</td>\n      <td>Not mentioned</td>\n      <td>Not mentioned</td>\n      <td>Not mentioned</td>\n      <td>...</td>\n      <td>0.557824</td>\n      <td>0.0</td>\n      <td>0.000000</td>\n      <td>0.547167</td>\n      <td>0.000000</td>\n      <td>0.502376</td>\n      <td>0.473388</td>\n      <td>0.000000</td>\n      <td>0.000000</td>\n      <td>7278.943848</td>\n    </tr>\n    <tr>\n      <th>13868</th>\n      <td>13869</td>\n      <td>15013869</td>\n      <td>UK</td>\n      <td>GB - United Kingdom</td>\n      <td>GB</td>\n      <td>Fixed telephone line</td>\n      <td>Farmers</td>\n      <td>Food manufacturers</td>\n      <td>Shops and retailers</td>\n      <td>no  Hospitality and food service sectors</td>\n      <td>...</td>\n      <td>7.124311</td>\n      <td>0.0</td>\n      <td>0.000000</td>\n      <td>6.988205</td>\n      <td>0.000000</td>\n      <td>6.416151</td>\n      <td>0.000000</td>\n      <td>5.380231</td>\n      <td>5.891114</td>\n      <td>92963.890625</td>\n    </tr>\n    <tr>\n      <th>11049</th>\n      <td>11050</td>\n      <td>13011050</td>\n      <td>PORTUGAL</td>\n      <td>PT - Portugal</td>\n      <td>PT</td>\n      <td>Fixed telephone line</td>\n      <td>Farmers</td>\n      <td>Food manufacturers</td>\n      <td>Shops and retailers</td>\n      <td>no  Hospitality and food service sectors</td>\n      <td>...</td>\n      <td>0.000000</td>\n      <td>0.0</td>\n      <td>0.340113</td>\n      <td>0.000000</td>\n      <td>0.360064</td>\n      <td>0.000000</td>\n      <td>0.377793</td>\n      <td>0.000000</td>\n      <td>0.000000</td>\n      <td>5809.047363</td>\n    </tr>\n  </tbody>\n</table>\n<p>5 rows × 160 columns</p>\n</div>"
     },
     "execution_count": 18,
     "metadata": {},
     "output_type": "execute_result"
    }
   ],
   "source": [
    "# Unerwünschte Spalten definieren und löschen\n",
    "cols_to_delete = ['studyno', 'doi', 'version', 'edition', 'survey']\n",
    "data = data.drop(columns=cols_to_delete)\n",
    "data.sample(5)"
   ],
   "metadata": {
    "collapsed": false,
    "pycharm": {
     "name": "#%%\n"
    }
   }
  },
  {
   "cell_type": "code",
   "execution_count": 19,
   "outputs": [
    {
     "data": {
      "text/plain": "       caseid    uniqid    tnscntry              country isocntry  \\\n8221     8222  10008222  LUXEMBOURG      LU - Luxembourg       LU   \n6698     6699   8006699     IRELAND         IE - Ireland       IE   \n25495   25496  42025496   SLOVENIJA        SI - Slovenia       SI   \n11143   11144  13011144    PORTUGAL        PT - Portugal       PT   \n14413   14414  15014414          UK  GB - United Kingdom       GB   \n\n                       mode           q1_1                q1_2  \\\n8221   Fixed telephone line  Not mentioned       Not mentioned   \n6698   Fixed telephone line        Farmers  Food manufacturers   \n25495  Fixed telephone line  Not mentioned       Not mentioned   \n11143  Fixed telephone line        Farmers  Food manufacturers   \n14413  Fixed telephone line        Farmers  Food manufacturers   \n\n                      q1_3                                      q1_4  ...  \\\n8221   Shops and retailers  no  Hospitality and food service sectors  ...   \n6698   Shops and retailers  no  Hospitality and food service sectors  ...   \n25495  Shops and retailers  no  Hospitality and food service sectors  ...   \n11143  Shops and retailers  no  Hospitality and food service sectors  ...   \n14413  Shops and retailers  no  Hospitality and food service sectors  ...   \n\n            w82  w84       w89       w90       w95      w96       w97  \\\n8221   0.000000  0.0  0.028708  0.000000  0.030392  0.00000  0.031888   \n6698   0.000000  0.0  0.111559  0.000000  0.118103  0.00000  0.123918   \n25495  0.000000  0.0  0.033513  0.000000  0.035478  0.00000  0.037225   \n11143  0.000000  0.0  0.407588  0.000000  0.431497  0.00000  0.452743   \n14413  8.376597  0.0  0.000000  8.216568  0.000000  7.54396  0.000000   \n\n            w83       w98            wex  \n8221   0.000000  0.000000     490.321014  \n6698   0.000000  0.000000    1905.406128  \n25495  0.000000  0.000000     572.386169  \n11143  0.000000  0.000000    6961.501953  \n14413  6.325949  6.926633  109304.757812  \n\n[5 rows x 160 columns]",
      "text/html": "<div>\n<style scoped>\n    .dataframe tbody tr th:only-of-type {\n        vertical-align: middle;\n    }\n\n    .dataframe tbody tr th {\n        vertical-align: top;\n    }\n\n    .dataframe thead th {\n        text-align: right;\n    }\n</style>\n<table border=\"1\" class=\"dataframe\">\n  <thead>\n    <tr style=\"text-align: right;\">\n      <th></th>\n      <th>caseid</th>\n      <th>uniqid</th>\n      <th>tnscntry</th>\n      <th>country</th>\n      <th>isocntry</th>\n      <th>mode</th>\n      <th>q1_1</th>\n      <th>q1_2</th>\n      <th>q1_3</th>\n      <th>q1_4</th>\n      <th>...</th>\n      <th>w82</th>\n      <th>w84</th>\n      <th>w89</th>\n      <th>w90</th>\n      <th>w95</th>\n      <th>w96</th>\n      <th>w97</th>\n      <th>w83</th>\n      <th>w98</th>\n      <th>wex</th>\n    </tr>\n  </thead>\n  <tbody>\n    <tr>\n      <th>8221</th>\n      <td>8222</td>\n      <td>10008222</td>\n      <td>LUXEMBOURG</td>\n      <td>LU - Luxembourg</td>\n      <td>LU</td>\n      <td>Fixed telephone line</td>\n      <td>Not mentioned</td>\n      <td>Not mentioned</td>\n      <td>Shops and retailers</td>\n      <td>no  Hospitality and food service sectors</td>\n      <td>...</td>\n      <td>0.000000</td>\n      <td>0.0</td>\n      <td>0.028708</td>\n      <td>0.000000</td>\n      <td>0.030392</td>\n      <td>0.00000</td>\n      <td>0.031888</td>\n      <td>0.000000</td>\n      <td>0.000000</td>\n      <td>490.321014</td>\n    </tr>\n    <tr>\n      <th>6698</th>\n      <td>6699</td>\n      <td>8006699</td>\n      <td>IRELAND</td>\n      <td>IE - Ireland</td>\n      <td>IE</td>\n      <td>Fixed telephone line</td>\n      <td>Farmers</td>\n      <td>Food manufacturers</td>\n      <td>Shops and retailers</td>\n      <td>no  Hospitality and food service sectors</td>\n      <td>...</td>\n      <td>0.000000</td>\n      <td>0.0</td>\n      <td>0.111559</td>\n      <td>0.000000</td>\n      <td>0.118103</td>\n      <td>0.00000</td>\n      <td>0.123918</td>\n      <td>0.000000</td>\n      <td>0.000000</td>\n      <td>1905.406128</td>\n    </tr>\n    <tr>\n      <th>25495</th>\n      <td>25496</td>\n      <td>42025496</td>\n      <td>SLOVENIJA</td>\n      <td>SI - Slovenia</td>\n      <td>SI</td>\n      <td>Fixed telephone line</td>\n      <td>Not mentioned</td>\n      <td>Not mentioned</td>\n      <td>Shops and retailers</td>\n      <td>no  Hospitality and food service sectors</td>\n      <td>...</td>\n      <td>0.000000</td>\n      <td>0.0</td>\n      <td>0.033513</td>\n      <td>0.000000</td>\n      <td>0.035478</td>\n      <td>0.00000</td>\n      <td>0.037225</td>\n      <td>0.000000</td>\n      <td>0.000000</td>\n      <td>572.386169</td>\n    </tr>\n    <tr>\n      <th>11143</th>\n      <td>11144</td>\n      <td>13011144</td>\n      <td>PORTUGAL</td>\n      <td>PT - Portugal</td>\n      <td>PT</td>\n      <td>Fixed telephone line</td>\n      <td>Farmers</td>\n      <td>Food manufacturers</td>\n      <td>Shops and retailers</td>\n      <td>no  Hospitality and food service sectors</td>\n      <td>...</td>\n      <td>0.000000</td>\n      <td>0.0</td>\n      <td>0.407588</td>\n      <td>0.000000</td>\n      <td>0.431497</td>\n      <td>0.00000</td>\n      <td>0.452743</td>\n      <td>0.000000</td>\n      <td>0.000000</td>\n      <td>6961.501953</td>\n    </tr>\n    <tr>\n      <th>14413</th>\n      <td>14414</td>\n      <td>15014414</td>\n      <td>UK</td>\n      <td>GB - United Kingdom</td>\n      <td>GB</td>\n      <td>Fixed telephone line</td>\n      <td>Farmers</td>\n      <td>Food manufacturers</td>\n      <td>Shops and retailers</td>\n      <td>no  Hospitality and food service sectors</td>\n      <td>...</td>\n      <td>8.376597</td>\n      <td>0.0</td>\n      <td>0.000000</td>\n      <td>8.216568</td>\n      <td>0.000000</td>\n      <td>7.54396</td>\n      <td>0.000000</td>\n      <td>6.325949</td>\n      <td>6.926633</td>\n      <td>109304.757812</td>\n    </tr>\n  </tbody>\n</table>\n<p>5 rows × 160 columns</p>\n</div>"
     },
     "execution_count": 19,
     "metadata": {},
     "output_type": "execute_result"
    }
   ],
   "source": [
    "cols_to_rename = {\n",
    "    'd1': 'age',\n",
    "    'd2': 'gender',\n",
    "}\n",
    "data = data.rename(columns=cols_to_rename)\n",
    "data.sample(5)"
   ],
   "metadata": {
    "collapsed": false,
    "pycharm": {
     "name": "#%%\n"
    }
   }
  },
  {
   "cell_type": "code",
   "execution_count": 20,
   "outputs": [
    {
     "data": {
      "text/plain": "       caseid    uniqid      tnscntry               country isocntry  \\\n8951     8952  11008952     NEDERLAND  NL - The Netherlands       NL   \n17880   17881  34017881         EESTI          EE - Estonia       EE   \n5910     5911   7005911        FRANCE           FR - France       FR   \n15030   15031  31015031     BALGARIJA         BG - Bulgaria       BG   \n12622   12623   3012623   DEUTSCHLAND          DE - Germany       DE   \n3986     3987   5003987        ESPANA             ES -Spain       ES   \n9921     9922  12009922    ÖSTERREICH          AT - Austria       AT   \n467       468   1000468      BELGIQUE          BE - Belgium       BE   \n2577     2578   4002578        ELLADA           GR - Greece       GR   \n18088   18089  35018089  MAGYARORSZAG          HU - Hungary       HU   \n\n                       mode           q1_1                q1_2  \\\n8951   Fixed telephone line  Not mentioned  Food manufacturers   \n17880  Fixed telephone line        Farmers  Food manufacturers   \n5910   Fixed telephone line        Farmers  Food manufacturers   \n15030  Fixed telephone line  Not mentioned       Not mentioned   \n12622  Fixed telephone line  Not mentioned  Food manufacturers   \n3986   Fixed telephone line  Not mentioned  Food manufacturers   \n9921   Fixed telephone line  Not mentioned       Not mentioned   \n467       Mobile phone line  Not mentioned  Food manufacturers   \n2577   Fixed telephone line  Not mentioned       Not mentioned   \n18088     Mobile phone line  Not mentioned       Not mentioned   \n\n                      q1_3                                      q1_4  ...  \\\n8951         Not mentioned                             Not mentioned  ...   \n17880  Shops and retailers  no  Hospitality and food service sectors  ...   \n5910   Shops and retailers  no  Hospitality and food service sectors  ...   \n15030  Shops and retailers  no  Hospitality and food service sectors  ...   \n12622  Shops and retailers  no  Hospitality and food service sectors  ...   \n3986         Not mentioned  no  Hospitality and food service sectors  ...   \n9921   Shops and retailers  no  Hospitality and food service sectors  ...   \n467    Shops and retailers  no  Hospitality and food service sectors  ...   \n2577         Not mentioned                             Not mentioned  ...   \n18088        Not mentioned                             Not mentioned  ...   \n\n            w82       w84       w89       w90       w95       w96       w97  \\\n8951   0.000000  0.000000  2.382976  0.000000  2.522759  0.000000  2.646974   \n17880  0.029498  0.000000  0.022536  0.000000  0.023858  0.000000  0.025033   \n5910   0.000000  0.000000  5.377200  0.000000  5.692622  0.000000  5.972913   \n15030  0.299301  0.263054  0.000000  0.293583  0.000000  0.269550  0.000000   \n12622  0.000000  0.000000  2.660488  0.000000  2.816550  0.000000  2.955230   \n3986   0.000000  0.000000  2.369598  0.000000  2.508597  0.000000  2.632114   \n9921   0.000000  0.000000  0.353662  0.000000  0.374407  0.000000  0.392842   \n467    0.000000  0.000000  0.843141  0.000000  0.892599  0.000000  0.936549   \n2577   0.000000  0.000000  0.570128  0.000000  0.603572  0.000000  0.633290   \n18088  0.276740  0.243226  0.000000  0.271453  0.000000  0.249232  0.000000   \n\n            w83       w98           wex  \n8951   0.000000  0.000000  40700.621094  \n17880  0.000000  0.000000    384.912231  \n5910   0.000000  0.000000  91841.210938  \n15030  0.226030  0.247493   3905.526611  \n12622  0.000000  0.000000  45440.453125  \n3986   0.000000  0.000000  40472.132812  \n9921   0.000000  0.000000   6040.449219  \n467    0.000000  0.000000  14400.638672  \n2577   0.000000  0.000000   9737.649414  \n18088  0.208992  0.228837   3611.134521  \n\n[10 rows x 160 columns]",
      "text/html": "<div>\n<style scoped>\n    .dataframe tbody tr th:only-of-type {\n        vertical-align: middle;\n    }\n\n    .dataframe tbody tr th {\n        vertical-align: top;\n    }\n\n    .dataframe thead th {\n        text-align: right;\n    }\n</style>\n<table border=\"1\" class=\"dataframe\">\n  <thead>\n    <tr style=\"text-align: right;\">\n      <th></th>\n      <th>caseid</th>\n      <th>uniqid</th>\n      <th>tnscntry</th>\n      <th>country</th>\n      <th>isocntry</th>\n      <th>mode</th>\n      <th>q1_1</th>\n      <th>q1_2</th>\n      <th>q1_3</th>\n      <th>q1_4</th>\n      <th>...</th>\n      <th>w82</th>\n      <th>w84</th>\n      <th>w89</th>\n      <th>w90</th>\n      <th>w95</th>\n      <th>w96</th>\n      <th>w97</th>\n      <th>w83</th>\n      <th>w98</th>\n      <th>wex</th>\n    </tr>\n  </thead>\n  <tbody>\n    <tr>\n      <th>8951</th>\n      <td>8952</td>\n      <td>11008952</td>\n      <td>NEDERLAND</td>\n      <td>NL - The Netherlands</td>\n      <td>NL</td>\n      <td>Fixed telephone line</td>\n      <td>Not mentioned</td>\n      <td>Food manufacturers</td>\n      <td>Not mentioned</td>\n      <td>Not mentioned</td>\n      <td>...</td>\n      <td>0.000000</td>\n      <td>0.000000</td>\n      <td>2.382976</td>\n      <td>0.000000</td>\n      <td>2.522759</td>\n      <td>0.000000</td>\n      <td>2.646974</td>\n      <td>0.000000</td>\n      <td>0.000000</td>\n      <td>40700.621094</td>\n    </tr>\n    <tr>\n      <th>17880</th>\n      <td>17881</td>\n      <td>34017881</td>\n      <td>EESTI</td>\n      <td>EE - Estonia</td>\n      <td>EE</td>\n      <td>Fixed telephone line</td>\n      <td>Farmers</td>\n      <td>Food manufacturers</td>\n      <td>Shops and retailers</td>\n      <td>no  Hospitality and food service sectors</td>\n      <td>...</td>\n      <td>0.029498</td>\n      <td>0.000000</td>\n      <td>0.022536</td>\n      <td>0.000000</td>\n      <td>0.023858</td>\n      <td>0.000000</td>\n      <td>0.025033</td>\n      <td>0.000000</td>\n      <td>0.000000</td>\n      <td>384.912231</td>\n    </tr>\n    <tr>\n      <th>5910</th>\n      <td>5911</td>\n      <td>7005911</td>\n      <td>FRANCE</td>\n      <td>FR - France</td>\n      <td>FR</td>\n      <td>Fixed telephone line</td>\n      <td>Farmers</td>\n      <td>Food manufacturers</td>\n      <td>Shops and retailers</td>\n      <td>no  Hospitality and food service sectors</td>\n      <td>...</td>\n      <td>0.000000</td>\n      <td>0.000000</td>\n      <td>5.377200</td>\n      <td>0.000000</td>\n      <td>5.692622</td>\n      <td>0.000000</td>\n      <td>5.972913</td>\n      <td>0.000000</td>\n      <td>0.000000</td>\n      <td>91841.210938</td>\n    </tr>\n    <tr>\n      <th>15030</th>\n      <td>15031</td>\n      <td>31015031</td>\n      <td>BALGARIJA</td>\n      <td>BG - Bulgaria</td>\n      <td>BG</td>\n      <td>Fixed telephone line</td>\n      <td>Not mentioned</td>\n      <td>Not mentioned</td>\n      <td>Shops and retailers</td>\n      <td>no  Hospitality and food service sectors</td>\n      <td>...</td>\n      <td>0.299301</td>\n      <td>0.263054</td>\n      <td>0.000000</td>\n      <td>0.293583</td>\n      <td>0.000000</td>\n      <td>0.269550</td>\n      <td>0.000000</td>\n      <td>0.226030</td>\n      <td>0.247493</td>\n      <td>3905.526611</td>\n    </tr>\n    <tr>\n      <th>12622</th>\n      <td>12623</td>\n      <td>3012623</td>\n      <td>DEUTSCHLAND</td>\n      <td>DE - Germany</td>\n      <td>DE</td>\n      <td>Fixed telephone line</td>\n      <td>Not mentioned</td>\n      <td>Food manufacturers</td>\n      <td>Shops and retailers</td>\n      <td>no  Hospitality and food service sectors</td>\n      <td>...</td>\n      <td>0.000000</td>\n      <td>0.000000</td>\n      <td>2.660488</td>\n      <td>0.000000</td>\n      <td>2.816550</td>\n      <td>0.000000</td>\n      <td>2.955230</td>\n      <td>0.000000</td>\n      <td>0.000000</td>\n      <td>45440.453125</td>\n    </tr>\n    <tr>\n      <th>3986</th>\n      <td>3987</td>\n      <td>5003987</td>\n      <td>ESPANA</td>\n      <td>ES -Spain</td>\n      <td>ES</td>\n      <td>Fixed telephone line</td>\n      <td>Not mentioned</td>\n      <td>Food manufacturers</td>\n      <td>Not mentioned</td>\n      <td>no  Hospitality and food service sectors</td>\n      <td>...</td>\n      <td>0.000000</td>\n      <td>0.000000</td>\n      <td>2.369598</td>\n      <td>0.000000</td>\n      <td>2.508597</td>\n      <td>0.000000</td>\n      <td>2.632114</td>\n      <td>0.000000</td>\n      <td>0.000000</td>\n      <td>40472.132812</td>\n    </tr>\n    <tr>\n      <th>9921</th>\n      <td>9922</td>\n      <td>12009922</td>\n      <td>ÖSTERREICH</td>\n      <td>AT - Austria</td>\n      <td>AT</td>\n      <td>Fixed telephone line</td>\n      <td>Not mentioned</td>\n      <td>Not mentioned</td>\n      <td>Shops and retailers</td>\n      <td>no  Hospitality and food service sectors</td>\n      <td>...</td>\n      <td>0.000000</td>\n      <td>0.000000</td>\n      <td>0.353662</td>\n      <td>0.000000</td>\n      <td>0.374407</td>\n      <td>0.000000</td>\n      <td>0.392842</td>\n      <td>0.000000</td>\n      <td>0.000000</td>\n      <td>6040.449219</td>\n    </tr>\n    <tr>\n      <th>467</th>\n      <td>468</td>\n      <td>1000468</td>\n      <td>BELGIQUE</td>\n      <td>BE - Belgium</td>\n      <td>BE</td>\n      <td>Mobile phone line</td>\n      <td>Not mentioned</td>\n      <td>Food manufacturers</td>\n      <td>Shops and retailers</td>\n      <td>no  Hospitality and food service sectors</td>\n      <td>...</td>\n      <td>0.000000</td>\n      <td>0.000000</td>\n      <td>0.843141</td>\n      <td>0.000000</td>\n      <td>0.892599</td>\n      <td>0.000000</td>\n      <td>0.936549</td>\n      <td>0.000000</td>\n      <td>0.000000</td>\n      <td>14400.638672</td>\n    </tr>\n    <tr>\n      <th>2577</th>\n      <td>2578</td>\n      <td>4002578</td>\n      <td>ELLADA</td>\n      <td>GR - Greece</td>\n      <td>GR</td>\n      <td>Fixed telephone line</td>\n      <td>Not mentioned</td>\n      <td>Not mentioned</td>\n      <td>Not mentioned</td>\n      <td>Not mentioned</td>\n      <td>...</td>\n      <td>0.000000</td>\n      <td>0.000000</td>\n      <td>0.570128</td>\n      <td>0.000000</td>\n      <td>0.603572</td>\n      <td>0.000000</td>\n      <td>0.633290</td>\n      <td>0.000000</td>\n      <td>0.000000</td>\n      <td>9737.649414</td>\n    </tr>\n    <tr>\n      <th>18088</th>\n      <td>18089</td>\n      <td>35018089</td>\n      <td>MAGYARORSZAG</td>\n      <td>HU - Hungary</td>\n      <td>HU</td>\n      <td>Mobile phone line</td>\n      <td>Not mentioned</td>\n      <td>Not mentioned</td>\n      <td>Not mentioned</td>\n      <td>Not mentioned</td>\n      <td>...</td>\n      <td>0.276740</td>\n      <td>0.243226</td>\n      <td>0.000000</td>\n      <td>0.271453</td>\n      <td>0.000000</td>\n      <td>0.249232</td>\n      <td>0.000000</td>\n      <td>0.208992</td>\n      <td>0.228837</td>\n      <td>3611.134521</td>\n    </tr>\n  </tbody>\n</table>\n<p>10 rows × 160 columns</p>\n</div>"
     },
     "execution_count": 20,
     "metadata": {},
     "output_type": "execute_result"
    }
   ],
   "source": [
    "data.sample(10)"
   ],
   "metadata": {
    "collapsed": false,
    "pycharm": {
     "name": "#%%\n"
    }
   }
  },
  {
   "cell_type": "code",
   "execution_count": null,
   "outputs": [],
   "source": [],
   "metadata": {
    "collapsed": false,
    "pycharm": {
     "name": "#%%\n"
    }
   }
  }
 ],
 "metadata": {
  "kernelspec": {
   "display_name": "Python 3",
   "language": "python",
   "name": "python3"
  },
  "language_info": {
   "codemirror_mode": {
    "name": "ipython",
    "version": 2
   },
   "file_extension": ".py",
   "mimetype": "text/x-python",
   "name": "python",
   "nbconvert_exporter": "python",
   "pygments_lexer": "ipython2",
   "version": "2.7.6"
  }
 },
 "nbformat": 4,
 "nbformat_minor": 0
}