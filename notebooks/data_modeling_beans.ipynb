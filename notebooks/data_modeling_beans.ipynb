{
 "cells": [
  {
   "cell_type": "code",
   "execution_count": 109,
   "metadata": {
    "collapsed": true
   },
   "outputs": [
    {
     "name": "stdout",
     "output_type": "stream",
     "text": [
      "Requirement already satisfied: openpyxl in c:\\users\\daves\\anaconda3\\envs\\biz_analytics_a\\lib\\site-packages (3.0.9)\n",
      "Requirement already satisfied: et-xmlfile in c:\\users\\daves\\anaconda3\\envs\\biz_analytics_a\\lib\\site-packages (from openpyxl) (1.1.0)\n"
     ]
    }
   ],
   "source": [
    "!pip install openpyxl"
   ]
  },
  {
   "cell_type": "code",
   "execution_count": 110,
   "outputs": [],
   "source": [
    "import pandas as pd\n",
    "data = pd.read_excel(r'C:\\Users\\daves\\AppData\\Roaming\\JetBrains\\DataSpell2021.3\\projects\\biz_analytics_a_starter\\data\\external\\Dry_Bean_Dataset.xlsx', engine='openpyxl')"
   ],
   "metadata": {
    "collapsed": false,
    "pycharm": {
     "name": "#%%\n"
    }
   }
  },
  {
   "cell_type": "code",
   "execution_count": 111,
   "outputs": [
    {
     "data": {
      "text/plain": "        Area  Perimeter  MajorAxisLength  MinorAxisLength  AspectRation  \\\n0      28395    610.291       208.178117       173.888747      1.197191   \n1      28734    638.018       200.524796       182.734419      1.097356   \n2      29380    624.110       212.826130       175.931143      1.209713   \n3      30008    645.884       210.557999       182.516516      1.153638   \n4      30140    620.134       201.847882       190.279279      1.060798   \n...      ...        ...              ...              ...           ...   \n13606  42097    759.696       288.721612       185.944705      1.552728   \n13607  42101    757.499       281.576392       190.713136      1.476439   \n13608  42139    759.321       281.539928       191.187979      1.472582   \n13609  42147    763.779       283.382636       190.275731      1.489326   \n13610  42159    772.237       295.142741       182.204716      1.619841   \n\n       Eccentricity  ConvexArea  EquivDiameter    Extent  Solidity  roundness  \\\n0          0.549812       28715     190.141097  0.763923  0.988856   0.958027   \n1          0.411785       29172     191.272750  0.783968  0.984986   0.887034   \n2          0.562727       29690     193.410904  0.778113  0.989559   0.947849   \n3          0.498616       30724     195.467062  0.782681  0.976696   0.903936   \n4          0.333680       30417     195.896503  0.773098  0.990893   0.984877   \n...             ...         ...            ...       ...       ...        ...   \n13606      0.765002       42508     231.515799  0.714574  0.990331   0.916603   \n13607      0.735702       42494     231.526798  0.799943  0.990752   0.922015   \n13608      0.734065       42569     231.631261  0.729932  0.989899   0.918424   \n13609      0.741055       42667     231.653248  0.705389  0.987813   0.907906   \n13610      0.786693       42600     231.686223  0.788962  0.989648   0.888380   \n\n       Compactness  ShapeFactor1  ShapeFactor2  ShapeFactor3  ShapeFactor4  \\\n0         0.913358      0.007332      0.003147      0.834222      0.998724   \n1         0.953861      0.006979      0.003564      0.909851      0.998430   \n2         0.908774      0.007244      0.003048      0.825871      0.999066   \n3         0.928329      0.007017      0.003215      0.861794      0.994199   \n4         0.970516      0.006697      0.003665      0.941900      0.999166   \n...            ...           ...           ...           ...           ...   \n13606     0.801865      0.006858      0.001749      0.642988      0.998385   \n13607     0.822252      0.006688      0.001886      0.676099      0.998219   \n13608     0.822730      0.006681      0.001888      0.676884      0.996767   \n13609     0.817457      0.006724      0.001852      0.668237      0.995222   \n13610     0.784997      0.007001      0.001640      0.616221      0.998180   \n\n          Class  \n0         SEKER  \n1         SEKER  \n2         SEKER  \n3         SEKER  \n4         SEKER  \n...         ...  \n13606  DERMASON  \n13607  DERMASON  \n13608  DERMASON  \n13609  DERMASON  \n13610  DERMASON  \n\n[13611 rows x 17 columns]",
      "text/html": "<div>\n<style scoped>\n    .dataframe tbody tr th:only-of-type {\n        vertical-align: middle;\n    }\n\n    .dataframe tbody tr th {\n        vertical-align: top;\n    }\n\n    .dataframe thead th {\n        text-align: right;\n    }\n</style>\n<table border=\"1\" class=\"dataframe\">\n  <thead>\n    <tr style=\"text-align: right;\">\n      <th></th>\n      <th>Area</th>\n      <th>Perimeter</th>\n      <th>MajorAxisLength</th>\n      <th>MinorAxisLength</th>\n      <th>AspectRation</th>\n      <th>Eccentricity</th>\n      <th>ConvexArea</th>\n      <th>EquivDiameter</th>\n      <th>Extent</th>\n      <th>Solidity</th>\n      <th>roundness</th>\n      <th>Compactness</th>\n      <th>ShapeFactor1</th>\n      <th>ShapeFactor2</th>\n      <th>ShapeFactor3</th>\n      <th>ShapeFactor4</th>\n      <th>Class</th>\n    </tr>\n  </thead>\n  <tbody>\n    <tr>\n      <th>0</th>\n      <td>28395</td>\n      <td>610.291</td>\n      <td>208.178117</td>\n      <td>173.888747</td>\n      <td>1.197191</td>\n      <td>0.549812</td>\n      <td>28715</td>\n      <td>190.141097</td>\n      <td>0.763923</td>\n      <td>0.988856</td>\n      <td>0.958027</td>\n      <td>0.913358</td>\n      <td>0.007332</td>\n      <td>0.003147</td>\n      <td>0.834222</td>\n      <td>0.998724</td>\n      <td>SEKER</td>\n    </tr>\n    <tr>\n      <th>1</th>\n      <td>28734</td>\n      <td>638.018</td>\n      <td>200.524796</td>\n      <td>182.734419</td>\n      <td>1.097356</td>\n      <td>0.411785</td>\n      <td>29172</td>\n      <td>191.272750</td>\n      <td>0.783968</td>\n      <td>0.984986</td>\n      <td>0.887034</td>\n      <td>0.953861</td>\n      <td>0.006979</td>\n      <td>0.003564</td>\n      <td>0.909851</td>\n      <td>0.998430</td>\n      <td>SEKER</td>\n    </tr>\n    <tr>\n      <th>2</th>\n      <td>29380</td>\n      <td>624.110</td>\n      <td>212.826130</td>\n      <td>175.931143</td>\n      <td>1.209713</td>\n      <td>0.562727</td>\n      <td>29690</td>\n      <td>193.410904</td>\n      <td>0.778113</td>\n      <td>0.989559</td>\n      <td>0.947849</td>\n      <td>0.908774</td>\n      <td>0.007244</td>\n      <td>0.003048</td>\n      <td>0.825871</td>\n      <td>0.999066</td>\n      <td>SEKER</td>\n    </tr>\n    <tr>\n      <th>3</th>\n      <td>30008</td>\n      <td>645.884</td>\n      <td>210.557999</td>\n      <td>182.516516</td>\n      <td>1.153638</td>\n      <td>0.498616</td>\n      <td>30724</td>\n      <td>195.467062</td>\n      <td>0.782681</td>\n      <td>0.976696</td>\n      <td>0.903936</td>\n      <td>0.928329</td>\n      <td>0.007017</td>\n      <td>0.003215</td>\n      <td>0.861794</td>\n      <td>0.994199</td>\n      <td>SEKER</td>\n    </tr>\n    <tr>\n      <th>4</th>\n      <td>30140</td>\n      <td>620.134</td>\n      <td>201.847882</td>\n      <td>190.279279</td>\n      <td>1.060798</td>\n      <td>0.333680</td>\n      <td>30417</td>\n      <td>195.896503</td>\n      <td>0.773098</td>\n      <td>0.990893</td>\n      <td>0.984877</td>\n      <td>0.970516</td>\n      <td>0.006697</td>\n      <td>0.003665</td>\n      <td>0.941900</td>\n      <td>0.999166</td>\n      <td>SEKER</td>\n    </tr>\n    <tr>\n      <th>...</th>\n      <td>...</td>\n      <td>...</td>\n      <td>...</td>\n      <td>...</td>\n      <td>...</td>\n      <td>...</td>\n      <td>...</td>\n      <td>...</td>\n      <td>...</td>\n      <td>...</td>\n      <td>...</td>\n      <td>...</td>\n      <td>...</td>\n      <td>...</td>\n      <td>...</td>\n      <td>...</td>\n      <td>...</td>\n    </tr>\n    <tr>\n      <th>13606</th>\n      <td>42097</td>\n      <td>759.696</td>\n      <td>288.721612</td>\n      <td>185.944705</td>\n      <td>1.552728</td>\n      <td>0.765002</td>\n      <td>42508</td>\n      <td>231.515799</td>\n      <td>0.714574</td>\n      <td>0.990331</td>\n      <td>0.916603</td>\n      <td>0.801865</td>\n      <td>0.006858</td>\n      <td>0.001749</td>\n      <td>0.642988</td>\n      <td>0.998385</td>\n      <td>DERMASON</td>\n    </tr>\n    <tr>\n      <th>13607</th>\n      <td>42101</td>\n      <td>757.499</td>\n      <td>281.576392</td>\n      <td>190.713136</td>\n      <td>1.476439</td>\n      <td>0.735702</td>\n      <td>42494</td>\n      <td>231.526798</td>\n      <td>0.799943</td>\n      <td>0.990752</td>\n      <td>0.922015</td>\n      <td>0.822252</td>\n      <td>0.006688</td>\n      <td>0.001886</td>\n      <td>0.676099</td>\n      <td>0.998219</td>\n      <td>DERMASON</td>\n    </tr>\n    <tr>\n      <th>13608</th>\n      <td>42139</td>\n      <td>759.321</td>\n      <td>281.539928</td>\n      <td>191.187979</td>\n      <td>1.472582</td>\n      <td>0.734065</td>\n      <td>42569</td>\n      <td>231.631261</td>\n      <td>0.729932</td>\n      <td>0.989899</td>\n      <td>0.918424</td>\n      <td>0.822730</td>\n      <td>0.006681</td>\n      <td>0.001888</td>\n      <td>0.676884</td>\n      <td>0.996767</td>\n      <td>DERMASON</td>\n    </tr>\n    <tr>\n      <th>13609</th>\n      <td>42147</td>\n      <td>763.779</td>\n      <td>283.382636</td>\n      <td>190.275731</td>\n      <td>1.489326</td>\n      <td>0.741055</td>\n      <td>42667</td>\n      <td>231.653248</td>\n      <td>0.705389</td>\n      <td>0.987813</td>\n      <td>0.907906</td>\n      <td>0.817457</td>\n      <td>0.006724</td>\n      <td>0.001852</td>\n      <td>0.668237</td>\n      <td>0.995222</td>\n      <td>DERMASON</td>\n    </tr>\n    <tr>\n      <th>13610</th>\n      <td>42159</td>\n      <td>772.237</td>\n      <td>295.142741</td>\n      <td>182.204716</td>\n      <td>1.619841</td>\n      <td>0.786693</td>\n      <td>42600</td>\n      <td>231.686223</td>\n      <td>0.788962</td>\n      <td>0.989648</td>\n      <td>0.888380</td>\n      <td>0.784997</td>\n      <td>0.007001</td>\n      <td>0.001640</td>\n      <td>0.616221</td>\n      <td>0.998180</td>\n      <td>DERMASON</td>\n    </tr>\n  </tbody>\n</table>\n<p>13611 rows × 17 columns</p>\n</div>"
     },
     "execution_count": 111,
     "metadata": {},
     "output_type": "execute_result"
    }
   ],
   "source": [
    "data"
   ],
   "metadata": {
    "collapsed": false,
    "pycharm": {
     "name": "#%%\n"
    }
   }
  },
  {
   "cell_type": "code",
   "execution_count": 112,
   "outputs": [
    {
     "data": {
      "text/plain": "DERMASON    3546\nSIRA        2636\nSEKER       2027\nHOROZ       1928\nCALI        1630\nBARBUNYA    1322\nBOMBAY       522\nName: Class, dtype: int64"
     },
     "execution_count": 112,
     "metadata": {},
     "output_type": "execute_result"
    }
   ],
   "source": [
    "data['Class'].value_counts()"
   ],
   "metadata": {
    "collapsed": false,
    "pycharm": {
     "name": "#%%\n"
    }
   }
  },
  {
   "cell_type": "code",
   "execution_count": 113,
   "outputs": [],
   "source": [
    "#Pandas immer Zeilen,Spalten\n",
    "data['Class'] = data['Class'] == 'BARBUNYA'"
   ],
   "metadata": {
    "collapsed": false,
    "pycharm": {
     "name": "#%%\n"
    }
   }
  },
  {
   "cell_type": "code",
   "execution_count": 114,
   "outputs": [
    {
     "data": {
      "text/plain": "False    12289\nTrue      1322\nName: Class, dtype: int64"
     },
     "execution_count": 114,
     "metadata": {},
     "output_type": "execute_result"
    }
   ],
   "source": [
    "data['Class'].value_counts()\n",
    "# Klassen haben unterschiedliche Größen - imbalanced Problem bspw. bei Betrug vorhersagen"
   ],
   "metadata": {
    "collapsed": false,
    "pycharm": {
     "name": "#%%\n"
    }
   }
  },
  {
   "cell_type": "code",
   "execution_count": 115,
   "outputs": [
    {
     "data": {
      "text/plain": "       EquivDiameter  ShapeFactor1  ShapeFactor2  ShapeFactor3  Class\n0         190.141097      0.007332      0.003147      0.834222  False\n1         191.272750      0.006979      0.003564      0.909851  False\n2         193.410904      0.007244      0.003048      0.825871  False\n3         195.467062      0.007017      0.003215      0.861794  False\n4         195.896503      0.006697      0.003665      0.941900  False\n...              ...           ...           ...           ...    ...\n13606     231.515799      0.006858      0.001749      0.642988  False\n13607     231.526798      0.006688      0.001886      0.676099  False\n13608     231.631261      0.006681      0.001888      0.676884  False\n13609     231.653248      0.006724      0.001852      0.668237  False\n13610     231.686223      0.007001      0.001640      0.616221  False\n\n[13611 rows x 5 columns]",
      "text/html": "<div>\n<style scoped>\n    .dataframe tbody tr th:only-of-type {\n        vertical-align: middle;\n    }\n\n    .dataframe tbody tr th {\n        vertical-align: top;\n    }\n\n    .dataframe thead th {\n        text-align: right;\n    }\n</style>\n<table border=\"1\" class=\"dataframe\">\n  <thead>\n    <tr style=\"text-align: right;\">\n      <th></th>\n      <th>EquivDiameter</th>\n      <th>ShapeFactor1</th>\n      <th>ShapeFactor2</th>\n      <th>ShapeFactor3</th>\n      <th>Class</th>\n    </tr>\n  </thead>\n  <tbody>\n    <tr>\n      <th>0</th>\n      <td>190.141097</td>\n      <td>0.007332</td>\n      <td>0.003147</td>\n      <td>0.834222</td>\n      <td>False</td>\n    </tr>\n    <tr>\n      <th>1</th>\n      <td>191.272750</td>\n      <td>0.006979</td>\n      <td>0.003564</td>\n      <td>0.909851</td>\n      <td>False</td>\n    </tr>\n    <tr>\n      <th>2</th>\n      <td>193.410904</td>\n      <td>0.007244</td>\n      <td>0.003048</td>\n      <td>0.825871</td>\n      <td>False</td>\n    </tr>\n    <tr>\n      <th>3</th>\n      <td>195.467062</td>\n      <td>0.007017</td>\n      <td>0.003215</td>\n      <td>0.861794</td>\n      <td>False</td>\n    </tr>\n    <tr>\n      <th>4</th>\n      <td>195.896503</td>\n      <td>0.006697</td>\n      <td>0.003665</td>\n      <td>0.941900</td>\n      <td>False</td>\n    </tr>\n    <tr>\n      <th>...</th>\n      <td>...</td>\n      <td>...</td>\n      <td>...</td>\n      <td>...</td>\n      <td>...</td>\n    </tr>\n    <tr>\n      <th>13606</th>\n      <td>231.515799</td>\n      <td>0.006858</td>\n      <td>0.001749</td>\n      <td>0.642988</td>\n      <td>False</td>\n    </tr>\n    <tr>\n      <th>13607</th>\n      <td>231.526798</td>\n      <td>0.006688</td>\n      <td>0.001886</td>\n      <td>0.676099</td>\n      <td>False</td>\n    </tr>\n    <tr>\n      <th>13608</th>\n      <td>231.631261</td>\n      <td>0.006681</td>\n      <td>0.001888</td>\n      <td>0.676884</td>\n      <td>False</td>\n    </tr>\n    <tr>\n      <th>13609</th>\n      <td>231.653248</td>\n      <td>0.006724</td>\n      <td>0.001852</td>\n      <td>0.668237</td>\n      <td>False</td>\n    </tr>\n    <tr>\n      <th>13610</th>\n      <td>231.686223</td>\n      <td>0.007001</td>\n      <td>0.001640</td>\n      <td>0.616221</td>\n      <td>False</td>\n    </tr>\n  </tbody>\n</table>\n<p>13611 rows × 5 columns</p>\n</div>"
     },
     "execution_count": 115,
     "metadata": {},
     "output_type": "execute_result"
    }
   ],
   "source": [
    "cols_to_keep = [7,12,13,14,16]\n",
    "#Nehme nur von data alle zeilen und diese Spalten\n",
    "data = data.iloc[:,cols_to_keep]\n",
    "data"
   ],
   "metadata": {
    "collapsed": false,
    "pycharm": {
     "name": "#%%\n"
    }
   }
  },
  {
   "cell_type": "code",
   "execution_count": 116,
   "outputs": [],
   "source": [
    "labels = data['Class']\n",
    "\n",
    "data = data.drop(columns=['Class'])"
   ],
   "metadata": {
    "collapsed": false,
    "pycharm": {
     "name": "#%%\n"
    }
   }
  },
  {
   "cell_type": "code",
   "execution_count": 117,
   "outputs": [
    {
     "data": {
      "text/plain": "0        False\n1        False\n2        False\n3        False\n4        False\n         ...  \n13606    False\n13607    False\n13608    False\n13609    False\n13610    False\nName: Class, Length: 13611, dtype: bool"
     },
     "execution_count": 117,
     "metadata": {},
     "output_type": "execute_result"
    }
   ],
   "source": [
    "labels"
   ],
   "metadata": {
    "collapsed": false,
    "pycharm": {
     "name": "#%%\n"
    }
   }
  },
  {
   "cell_type": "code",
   "execution_count": 118,
   "outputs": [
    {
     "data": {
      "text/plain": "array([[-1.0633406 ,  0.68078638,  2.40217287,  1.92572347],\n       [-1.04421674,  0.3679669 ,  3.10089314,  2.68970162],\n       [-1.00808399,  0.60312889,  2.23509147,  1.84135576],\n       ...,\n       [-0.3621965 ,  0.10426946,  0.28920441,  0.33632829],\n       [-0.36182496,  0.14190638,  0.22837538,  0.2489734 ],\n       [-0.3612677 ,  0.38751213, -0.12777587, -0.2764814 ]])"
     },
     "execution_count": 118,
     "metadata": {},
     "output_type": "execute_result"
    }
   ],
   "source": [
    "from sklearn import preprocessing\n",
    "\n",
    "scaler = preprocessing.StandardScaler()\n",
    "X = scaler.fit_transform(data)\n",
    "X"
   ],
   "metadata": {
    "collapsed": false,
    "pycharm": {
     "name": "#%%\n"
    }
   }
  },
  {
   "cell_type": "code",
   "execution_count": 119,
   "outputs": [
    {
     "data": {
      "text/plain": "array([False, False, False, ..., False, False, False])"
     },
     "execution_count": 119,
     "metadata": {},
     "output_type": "execute_result"
    }
   ],
   "source": [
    "y = labels.values\n",
    "y"
   ],
   "metadata": {
    "collapsed": false,
    "pycharm": {
     "name": "#%%\n"
    }
   }
  },
  {
   "cell_type": "code",
   "execution_count": 120,
   "outputs": [
    {
     "data": {
      "text/plain": "KNeighborsClassifier()"
     },
     "execution_count": 120,
     "metadata": {},
     "output_type": "execute_result"
    }
   ],
   "source": [
    "from sklearn.neighbors import KNeighborsClassifier\n",
    "\n",
    "model = KNeighborsClassifier()\n",
    "model.fit(X,y)"
   ],
   "metadata": {
    "collapsed": false,
    "pycharm": {
     "name": "#%%\n"
    }
   }
  },
  {
   "cell_type": "code",
   "execution_count": 121,
   "outputs": [],
   "source": [
    "all_predictions = model.predict(X)"
   ],
   "metadata": {
    "collapsed": false,
    "pycharm": {
     "name": "#%%\n"
    }
   }
  },
  {
   "cell_type": "code",
   "execution_count": 122,
   "outputs": [
    {
     "data": {
      "text/plain": "True     0.962824\nFalse    0.037176\nName: Class, dtype: float64"
     },
     "execution_count": 122,
     "metadata": {},
     "output_type": "execute_result"
    }
   ],
   "source": [
    "prediction_comparison = (all_predictions==labels)\n",
    "prediction_comparison.value_counts(normalize=True)"
   ],
   "metadata": {
    "collapsed": false,
    "pycharm": {
     "name": "#%%\n"
    }
   }
  },
  {
   "cell_type": "markdown",
   "source": [
    "# Train-Test-Splitting"
   ],
   "metadata": {
    "collapsed": false
   }
  },
  {
   "cell_type": "code",
   "execution_count": 123,
   "outputs": [
    {
     "data": {
      "text/plain": "0.7999412240099919"
     },
     "execution_count": 123,
     "metadata": {},
     "output_type": "execute_result"
    }
   ],
   "source": [
    "# y barbuny oder nicht x daten\n",
    "#x test vorhersage y test war die vorersage korrekt\n",
    "from sklearn.model_selection import train_test_split\n",
    "\n",
    "X_train, X_test, y_train, y_test = train_test_split(X, y, test_size=0.2, random_state=6)\n",
    "\n",
    "len(X_train)/len(X)"
   ],
   "metadata": {
    "collapsed": false,
    "pycharm": {
     "name": "#%%\n"
    }
   }
  },
  {
   "cell_type": "code",
   "execution_count": 124,
   "outputs": [
    {
     "data": {
      "text/plain": "False    0.902186\nTrue     0.097814\ndtype: float64"
     },
     "execution_count": 124,
     "metadata": {},
     "output_type": "execute_result"
    }
   ],
   "source": [
    "# mach aus y_Train( numpy array ) in eine Panda series damit ich die tollen statistischen Funktionen von Pandas nutzen kann\n",
    "pd.Series(y_train).value_counts(normalize=True)"
   ],
   "metadata": {
    "collapsed": false,
    "pycharm": {
     "name": "#%%\n"
    }
   }
  },
  {
   "cell_type": "markdown",
   "source": [
    "Erklärung pd.Series(y_train) numpy array zu pd series"
   ],
   "metadata": {
    "collapsed": false
   }
  },
  {
   "cell_type": "code",
   "execution_count": 125,
   "outputs": [
    {
     "data": {
      "text/plain": "numpy.ndarray"
     },
     "execution_count": 125,
     "metadata": {},
     "output_type": "execute_result"
    }
   ],
   "source": [
    "type(y_test)"
   ],
   "metadata": {
    "collapsed": false,
    "pycharm": {
     "name": "#%%\n"
    }
   }
  },
  {
   "cell_type": "code",
   "execution_count": 126,
   "outputs": [
    {
     "data": {
      "text/plain": "pandas.core.series.Series"
     },
     "execution_count": 126,
     "metadata": {},
     "output_type": "execute_result"
    }
   ],
   "source": [
    "type(pd.Series(y_test))"
   ],
   "metadata": {
    "collapsed": false,
    "pycharm": {
     "name": "#%%\n"
    }
   }
  },
  {
   "cell_type": "code",
   "execution_count": 127,
   "outputs": [
    {
     "data": {
      "text/plain": "False    0.905619\nTrue     0.094381\ndtype: float64"
     },
     "execution_count": 127,
     "metadata": {},
     "output_type": "execute_result"
    }
   ],
   "source": [
    "pd.Series(y_test).value_counts(normalize=True)"
   ],
   "metadata": {
    "collapsed": false,
    "pycharm": {
     "name": "#%%\n"
    }
   }
  },
  {
   "cell_type": "markdown",
   "source": [
    "# Stratifikation"
   ],
   "metadata": {
    "collapsed": false
   }
  },
  {
   "cell_type": "code",
   "execution_count": 128,
   "outputs": [],
   "source": [
    "X_train, X_test, y_train, y_test = train_test_split(X, y, test_size=0.2, random_state=42, stratify=y)"
   ],
   "metadata": {
    "collapsed": false,
    "pycharm": {
     "name": "#%%\n"
    }
   }
  },
  {
   "cell_type": "code",
   "execution_count": 129,
   "outputs": [
    {
     "data": {
      "text/plain": "False    0.902829\nTrue     0.097171\ndtype: float64"
     },
     "execution_count": 129,
     "metadata": {},
     "output_type": "execute_result"
    }
   ],
   "source": [
    "pd.Series(y_train).value_counts(normalize=True)"
   ],
   "metadata": {
    "collapsed": false,
    "pycharm": {
     "name": "#%%\n"
    }
   }
  },
  {
   "cell_type": "code",
   "execution_count": 130,
   "outputs": [
    {
     "data": {
      "text/plain": "False    0.903048\nTrue     0.096952\ndtype: float64"
     },
     "execution_count": 130,
     "metadata": {},
     "output_type": "execute_result"
    }
   ],
   "source": [
    "pd.Series(y_test).value_counts(normalize=True)"
   ],
   "metadata": {
    "collapsed": false,
    "pycharm": {
     "name": "#%%\n"
    }
   }
  },
  {
   "cell_type": "markdown",
   "source": [
    "# Übung"
   ],
   "metadata": {
    "collapsed": false
   }
  },
  {
   "cell_type": "markdown",
   "source": [
    "# 1)"
   ],
   "metadata": {
    "collapsed": false
   }
  },
  {
   "cell_type": "code",
   "execution_count": 131,
   "outputs": [],
   "source": [
    "#X_train, X_test, y_train, y_test = train_test_split(X, y, test_size=0.3, random_state=42, stratify=y)\n",
    "\n",
    "#len(X_test)/len(X)"
   ],
   "metadata": {
    "collapsed": false,
    "pycharm": {
     "name": "#%%\n"
    }
   }
  },
  {
   "cell_type": "markdown",
   "source": [
    "# 2)"
   ],
   "metadata": {
    "collapsed": false
   }
  },
  {
   "cell_type": "code",
   "execution_count": 132,
   "outputs": [],
   "source": [
    "#pd.Series(y_test).value_counts()"
   ],
   "metadata": {
    "collapsed": false,
    "pycharm": {
     "name": "#%%\n"
    }
   }
  },
  {
   "cell_type": "markdown",
   "source": [
    "# 3)"
   ],
   "metadata": {
    "collapsed": false
   }
  },
  {
   "cell_type": "code",
   "execution_count": 133,
   "outputs": [],
   "source": [
    " #keine_barbunya_bohne = y_test==False"
   ],
   "metadata": {
    "collapsed": false,
    "pycharm": {
     "name": "#%%\n"
    }
   }
  },
  {
   "cell_type": "code",
   "execution_count": 134,
   "outputs": [],
   "source": [
    "#X_test[keine_barbunya_bohne,:]\n",
    "#Eckige Klammern könnt ihr Sachen rausfiltern\n",
    "# Doppelpunkt wir nehmen alle Spalten"
   ],
   "metadata": {
    "collapsed": false,
    "pycharm": {
     "name": "#%%\n"
    }
   }
  },
  {
   "cell_type": "code",
   "execution_count": 135,
   "outputs": [],
   "source": [
    "#keine_barbunya_bohne"
   ],
   "metadata": {
    "collapsed": false,
    "pycharm": {
     "name": "#%%\n"
    }
   }
  },
  {
   "cell_type": "markdown",
   "source": [
    "# Modellauswertung\n",
    " Confusion Matrix\n",
    "|true negative | false positive |\n",
    "|false negative| true positive  |"
   ],
   "metadata": {
    "collapsed": false
   }
  },
  {
   "cell_type": "markdown",
   "source": [],
   "metadata": {
    "collapsed": false
   }
  },
  {
   "cell_type": "code",
   "execution_count": 136,
   "outputs": [
    {
     "data": {
      "text/plain": "KNeighborsClassifier()"
     },
     "execution_count": 136,
     "metadata": {},
     "output_type": "execute_result"
    }
   ],
   "source": [
    "model = KNeighborsClassifier()\n",
    "model.fit(X_train, y_train)"
   ],
   "metadata": {
    "collapsed": false,
    "pycharm": {
     "name": "#%%\n"
    }
   }
  },
  {
   "cell_type": "code",
   "execution_count": 137,
   "outputs": [],
   "source": [
    "y_predicted_test = model.predict(X_test)"
   ],
   "metadata": {
    "collapsed": false,
    "pycharm": {
     "name": "#%%\n"
    }
   }
  },
  {
   "cell_type": "code",
   "execution_count": 138,
   "outputs": [
    {
     "data": {
      "text/plain": "array([False, False, False, ..., False, False, False])"
     },
     "execution_count": 138,
     "metadata": {},
     "output_type": "execute_result"
    }
   ],
   "source": [
    "y_predicted_test"
   ],
   "metadata": {
    "collapsed": false,
    "pycharm": {
     "name": "#%%\n"
    }
   }
  },
  {
   "cell_type": "code",
   "execution_count": 139,
   "outputs": [],
   "source": [
    "y_prediction_correct = y_predicted_test==y_test"
   ],
   "metadata": {
    "collapsed": false,
    "pycharm": {
     "name": "#%%\n"
    }
   }
  },
  {
   "cell_type": "code",
   "execution_count": 140,
   "outputs": [
    {
     "data": {
      "text/plain": "True     2590\nFalse     133\ndtype: int64"
     },
     "execution_count": 140,
     "metadata": {},
     "output_type": "execute_result"
    }
   ],
   "source": [
    "pd.Series(y_prediction_correct).value_counts()"
   ],
   "metadata": {
    "collapsed": false,
    "pycharm": {
     "name": "#%%\n"
    }
   }
  },
  {
   "cell_type": "code",
   "execution_count": 141,
   "outputs": [
    {
     "data": {
      "text/plain": "      prediction_correct  label\n0                  False   True\n1                   True  False\n2                   True  False\n3                   True  False\n4                   True  False\n...                  ...    ...\n2718                True  False\n2719                True  False\n2720                True  False\n2721                True  False\n2722                True  False\n\n[2723 rows x 2 columns]",
      "text/html": "<div>\n<style scoped>\n    .dataframe tbody tr th:only-of-type {\n        vertical-align: middle;\n    }\n\n    .dataframe tbody tr th {\n        vertical-align: top;\n    }\n\n    .dataframe thead th {\n        text-align: right;\n    }\n</style>\n<table border=\"1\" class=\"dataframe\">\n  <thead>\n    <tr style=\"text-align: right;\">\n      <th></th>\n      <th>prediction_correct</th>\n      <th>label</th>\n    </tr>\n  </thead>\n  <tbody>\n    <tr>\n      <th>0</th>\n      <td>False</td>\n      <td>True</td>\n    </tr>\n    <tr>\n      <th>1</th>\n      <td>True</td>\n      <td>False</td>\n    </tr>\n    <tr>\n      <th>2</th>\n      <td>True</td>\n      <td>False</td>\n    </tr>\n    <tr>\n      <th>3</th>\n      <td>True</td>\n      <td>False</td>\n    </tr>\n    <tr>\n      <th>4</th>\n      <td>True</td>\n      <td>False</td>\n    </tr>\n    <tr>\n      <th>...</th>\n      <td>...</td>\n      <td>...</td>\n    </tr>\n    <tr>\n      <th>2718</th>\n      <td>True</td>\n      <td>False</td>\n    </tr>\n    <tr>\n      <th>2719</th>\n      <td>True</td>\n      <td>False</td>\n    </tr>\n    <tr>\n      <th>2720</th>\n      <td>True</td>\n      <td>False</td>\n    </tr>\n    <tr>\n      <th>2721</th>\n      <td>True</td>\n      <td>False</td>\n    </tr>\n    <tr>\n      <th>2722</th>\n      <td>True</td>\n      <td>False</td>\n    </tr>\n  </tbody>\n</table>\n<p>2723 rows × 2 columns</p>\n</div>"
     },
     "execution_count": 141,
     "metadata": {},
     "output_type": "execute_result"
    }
   ],
   "source": [
    "predictions_and_labels = pd.DataFrame({\n",
    "    'prediction_correct': y_prediction_correct,\n",
    "    'label': y_test})\n",
    "predictions_and_labels"
   ],
   "metadata": {
    "collapsed": false,
    "pycharm": {
     "name": "#%%\n"
    }
   }
  },
  {
   "cell_type": "code",
   "execution_count": 142,
   "outputs": [
    {
     "data": {
      "text/plain": "prediction_correct  False  True \nlabel                           \nFalse                  49   2410\nTrue                   84    180",
      "text/html": "<div>\n<style scoped>\n    .dataframe tbody tr th:only-of-type {\n        vertical-align: middle;\n    }\n\n    .dataframe tbody tr th {\n        vertical-align: top;\n    }\n\n    .dataframe thead th {\n        text-align: right;\n    }\n</style>\n<table border=\"1\" class=\"dataframe\">\n  <thead>\n    <tr style=\"text-align: right;\">\n      <th>prediction_correct</th>\n      <th>False</th>\n      <th>True</th>\n    </tr>\n    <tr>\n      <th>label</th>\n      <th></th>\n      <th></th>\n    </tr>\n  </thead>\n  <tbody>\n    <tr>\n      <th>False</th>\n      <td>49</td>\n      <td>2410</td>\n    </tr>\n    <tr>\n      <th>True</th>\n      <td>84</td>\n      <td>180</td>\n    </tr>\n  </tbody>\n</table>\n</div>"
     },
     "execution_count": 142,
     "metadata": {},
     "output_type": "execute_result"
    }
   ],
   "source": [
    "pd.crosstab(predictions_and_labels['label'],\n",
    "            predictions_and_labels['prediction_correct'],\n",
    "            predictions_and_labels['prediction_correct'],\n",
    "            aggfunc='count')"
   ],
   "metadata": {
    "collapsed": false,
    "pycharm": {
     "name": "#%%\n"
    }
   }
  },
  {
   "cell_type": "markdown",
   "source": [
    "# Korrektur Confusion Matrix"
   ],
   "metadata": {
    "collapsed": false
   }
  },
  {
   "cell_type": "code",
   "execution_count": 142,
   "outputs": [],
   "source": [],
   "metadata": {
    "collapsed": false,
    "pycharm": {
     "name": "#%%\n"
    }
   }
  },
  {
   "cell_type": "code",
   "execution_count": 143,
   "outputs": [
    {
     "data": {
      "text/plain": "      prediction_correct  label\n0                  False   True\n1                  False  False\n2                  False  False\n3                  False  False\n4                  False  False\n...                  ...    ...\n2718               False  False\n2719               False  False\n2720               False  False\n2721               False  False\n2722               False  False\n\n[2723 rows x 2 columns]",
      "text/html": "<div>\n<style scoped>\n    .dataframe tbody tr th:only-of-type {\n        vertical-align: middle;\n    }\n\n    .dataframe tbody tr th {\n        vertical-align: top;\n    }\n\n    .dataframe thead th {\n        text-align: right;\n    }\n</style>\n<table border=\"1\" class=\"dataframe\">\n  <thead>\n    <tr style=\"text-align: right;\">\n      <th></th>\n      <th>prediction_correct</th>\n      <th>label</th>\n    </tr>\n  </thead>\n  <tbody>\n    <tr>\n      <th>0</th>\n      <td>False</td>\n      <td>True</td>\n    </tr>\n    <tr>\n      <th>1</th>\n      <td>False</td>\n      <td>False</td>\n    </tr>\n    <tr>\n      <th>2</th>\n      <td>False</td>\n      <td>False</td>\n    </tr>\n    <tr>\n      <th>3</th>\n      <td>False</td>\n      <td>False</td>\n    </tr>\n    <tr>\n      <th>4</th>\n      <td>False</td>\n      <td>False</td>\n    </tr>\n    <tr>\n      <th>...</th>\n      <td>...</td>\n      <td>...</td>\n    </tr>\n    <tr>\n      <th>2718</th>\n      <td>False</td>\n      <td>False</td>\n    </tr>\n    <tr>\n      <th>2719</th>\n      <td>False</td>\n      <td>False</td>\n    </tr>\n    <tr>\n      <th>2720</th>\n      <td>False</td>\n      <td>False</td>\n    </tr>\n    <tr>\n      <th>2721</th>\n      <td>False</td>\n      <td>False</td>\n    </tr>\n    <tr>\n      <th>2722</th>\n      <td>False</td>\n      <td>False</td>\n    </tr>\n  </tbody>\n</table>\n<p>2723 rows × 2 columns</p>\n</div>"
     },
     "execution_count": 143,
     "metadata": {},
     "output_type": "execute_result"
    }
   ],
   "source": [
    "y_predicted_test = model.predict(X_test)\n",
    "\n",
    "predictions_and_labels = pd.DataFrame({\n",
    "    'prediction_correct': y_predicted_test,\n",
    "    'label': y_test})\n",
    "predictions_and_labels"
   ],
   "metadata": {
    "collapsed": false,
    "pycharm": {
     "name": "#%%\n"
    }
   }
  },
  {
   "cell_type": "code",
   "execution_count": 144,
   "outputs": [
    {
     "data": {
      "text/plain": "prediction_correct  False  True \nlabel                           \nFalse                2410     49\nTrue                   84    180",
      "text/html": "<div>\n<style scoped>\n    .dataframe tbody tr th:only-of-type {\n        vertical-align: middle;\n    }\n\n    .dataframe tbody tr th {\n        vertical-align: top;\n    }\n\n    .dataframe thead th {\n        text-align: right;\n    }\n</style>\n<table border=\"1\" class=\"dataframe\">\n  <thead>\n    <tr style=\"text-align: right;\">\n      <th>prediction_correct</th>\n      <th>False</th>\n      <th>True</th>\n    </tr>\n    <tr>\n      <th>label</th>\n      <th></th>\n      <th></th>\n    </tr>\n  </thead>\n  <tbody>\n    <tr>\n      <th>False</th>\n      <td>2410</td>\n      <td>49</td>\n    </tr>\n    <tr>\n      <th>True</th>\n      <td>84</td>\n      <td>180</td>\n    </tr>\n  </tbody>\n</table>\n</div>"
     },
     "execution_count": 144,
     "metadata": {},
     "output_type": "execute_result"
    }
   ],
   "source": [
    "pd.crosstab(predictions_and_labels['label'],\n",
    "            predictions_and_labels['prediction_correct'],\n",
    "            predictions_and_labels['prediction_correct'],\n",
    "            aggfunc='count')"
   ],
   "metadata": {
    "collapsed": false,
    "pycharm": {
     "name": "#%%\n"
    }
   }
  },
  {
   "cell_type": "markdown",
   "source": [
    "True = Babunya False = Nicht Babunya"
   ],
   "metadata": {
    "collapsed": false
   }
  },
  {
   "cell_type": "code",
   "execution_count": 145,
   "outputs": [
    {
     "name": "stderr",
     "output_type": "stream",
     "text": [
      "C:\\Users\\daves\\anaconda3\\envs\\biz_analytics_a\\lib\\site-packages\\yellowbrick\\classifier\\base.py:232: YellowbrickWarning: could not determine class_counts_ from previously fitted classifier\n",
      "  warnings.warn(\n"
     ]
    },
    {
     "data": {
      "text/plain": "<Figure size 576x396 with 1 Axes>",
      "image/png": "[encoded data removed]"
     },
     "metadata": {},
     "output_type": "display_data"
    },
    {
     "data": {
      "text/plain": "<AxesSubplot:title={'center':'KNeighborsClassifier Confusion Matrix'}, xlabel='Predicted Class', ylabel='True Class'>"
     },
     "execution_count": 145,
     "metadata": {},
     "output_type": "execute_result"
    }
   ],
   "source": [
    "# Erste klasse immer True und zweite Klasse False\n",
    "\n",
    "from yellowbrick.classifier import ConfusionMatrix\n",
    "\n",
    "confusion_matrix = ConfusionMatrix(\n",
    "    model,\n",
    "    classes=['Not BARBUNYA','Is BARBUNYA']\n",
    ")\n",
    "confusion_matrix.score(X_test, y_test)\n",
    "confusion_matrix.show()"
   ],
   "metadata": {
    "collapsed": false,
    "pycharm": {
     "name": "#%%\n"
    }
   }
  },
  {
   "cell_type": "markdown",
   "source": [
    "Accuracy"
   ],
   "metadata": {
    "collapsed": false
   }
  },
  {
   "cell_type": "code",
   "execution_count": 146,
   "outputs": [],
   "source": [
    "tp = 180\n",
    "tn = 2410\n",
    "fp = 49\n",
    "fn = 84"
   ],
   "metadata": {
    "collapsed": false,
    "pycharm": {
     "name": "#%%\n"
    }
   }
  },
  {
   "cell_type": "code",
   "execution_count": 147,
   "outputs": [
    {
     "data": {
      "text/plain": "0.9511568123393316"
     },
     "execution_count": 147,
     "metadata": {},
     "output_type": "execute_result"
    }
   ],
   "source": [
    "accuracy = (tp+tn)/(tp+tn+fp+fn)\n",
    "accuracy"
   ],
   "metadata": {
    "collapsed": false,
    "pycharm": {
     "name": "#%%\n"
    }
   }
  },
  {
   "cell_type": "code",
   "execution_count": 148,
   "outputs": [
    {
     "data": {
      "text/plain": "0.9511568123393316"
     },
     "execution_count": 148,
     "metadata": {},
     "output_type": "execute_result"
    }
   ],
   "source": [
    "from sklearn.metrics import accuracy_score\n",
    "\n",
    "accuracy_score(y_test, y_predicted_test)"
   ],
   "metadata": {
    "collapsed": false,
    "pycharm": {
     "name": "#%%\n"
    }
   }
  },
  {
   "cell_type": "markdown",
   "source": [
    "Recall"
   ],
   "metadata": {
    "collapsed": false
   }
  },
  {
   "cell_type": "code",
   "execution_count": 149,
   "outputs": [
    {
     "data": {
      "text/plain": "0.6818181818181818"
     },
     "execution_count": 149,
     "metadata": {},
     "output_type": "execute_result"
    }
   ],
   "source": [
    "from sklearn.metrics import recall_score\n",
    "\n",
    "recall_score(y_test, y_predicted_test)"
   ],
   "metadata": {
    "collapsed": false,
    "pycharm": {
     "name": "#%%\n"
    }
   }
  },
  {
   "cell_type": "code",
   "execution_count": 150,
   "outputs": [
    {
     "data": {
      "text/plain": "0.6818181818181818"
     },
     "execution_count": 150,
     "metadata": {},
     "output_type": "execute_result"
    }
   ],
   "source": [
    "recall = tp/(tp+fn)\n",
    "recall"
   ],
   "metadata": {
    "collapsed": false,
    "pycharm": {
     "name": "#%%\n"
    }
   }
  },
  {
   "cell_type": "markdown",
   "source": [
    "Precision"
   ],
   "metadata": {
    "collapsed": false
   }
  },
  {
   "cell_type": "code",
   "execution_count": 151,
   "outputs": [
    {
     "data": {
      "text/plain": "0.7860262008733624"
     },
     "execution_count": 151,
     "metadata": {},
     "output_type": "execute_result"
    }
   ],
   "source": [
    "from sklearn.metrics import precision_score\n",
    "\n",
    "precision_score(y_test, y_predicted_test)"
   ],
   "metadata": {
    "collapsed": false,
    "pycharm": {
     "name": "#%%\n"
    }
   }
  },
  {
   "cell_type": "code",
   "execution_count": 152,
   "outputs": [
    {
     "name": "stdout",
     "output_type": "stream",
     "text": [
      "0.7860262008733624\n"
     ]
    }
   ],
   "source": [
    "precision = tp/(tp+fp)\n",
    "print(precision)"
   ],
   "metadata": {
    "collapsed": false,
    "pycharm": {
     "name": "#%%\n"
    }
   }
  },
  {
   "cell_type": "code",
   "execution_count": 153,
   "outputs": [
    {
     "name": "stdout",
     "output_type": "stream",
     "text": [
      "              precision    recall  f1-score   support\n",
      "\n",
      "       False       0.97      0.98      0.97      2459\n",
      "        True       0.79      0.68      0.73       264\n",
      "\n",
      "    accuracy                           0.95      2723\n",
      "   macro avg       0.88      0.83      0.85      2723\n",
      "weighted avg       0.95      0.95      0.95      2723\n",
      "\n"
     ]
    }
   ],
   "source": [
    "from sklearn.metrics import classification_report\n",
    "\n",
    "print(classification_report(y_test, y_predicted_test))"
   ],
   "metadata": {
    "collapsed": false,
    "pycharm": {
     "name": "#%%\n"
    }
   }
  },
  {
   "cell_type": "code",
   "execution_count": 154,
   "outputs": [
    {
     "data": {
      "text/plain": "0.7302231237322515"
     },
     "execution_count": 154,
     "metadata": {},
     "output_type": "execute_result"
    }
   ],
   "source": [
    "f1 = 2*precision*recall/(precision+recall)\n",
    "f1"
   ],
   "metadata": {
    "collapsed": false,
    "pycharm": {
     "name": "#%%\n"
    }
   }
  },
  {
   "cell_type": "code",
   "execution_count": 155,
   "outputs": [
    {
     "data": {
      "text/plain": "0.7302231237322515"
     },
     "execution_count": 155,
     "metadata": {},
     "output_type": "execute_result"
    }
   ],
   "source": [
    "from sklearn.metrics import f1_score\n",
    "\n",
    "f1_score(y_test,y_predicted_test)"
   ],
   "metadata": {
    "collapsed": false,
    "pycharm": {
     "name": "#%%\n"
    }
   }
  },
  {
   "cell_type": "markdown",
   "source": [
    "# Entscheidungsbaummodelle"
   ],
   "metadata": {
    "collapsed": false
   }
  },
  {
   "cell_type": "markdown",
   "source": [
    "Gini impurity bestraft falsch klassifizierte Zeilen stärker als accuracy\n",
    "Kriterium finden, dass die Daten amgenauesten splittet in rechts rot links grün oder rockts falsch links wahr. Dafür ist die Gini impurity"
   ],
   "metadata": {
    "collapsed": false
   }
  },
  {
   "cell_type": "code",
   "execution_count": 156,
   "outputs": [
    {
     "data": {
      "text/plain": "DecisionTreeClassifier(random_state=42)"
     },
     "execution_count": 156,
     "metadata": {},
     "output_type": "execute_result"
    }
   ],
   "source": [
    "from sklearn.tree import DecisionTreeClassifier\n",
    "\n",
    "model_dt = DecisionTreeClassifier(random_state=42)\n",
    "model_dt.fit(X_train, y_train)"
   ],
   "metadata": {
    "collapsed": false,
    "pycharm": {
     "name": "#%%\n"
    }
   }
  },
  {
   "cell_type": "code",
   "execution_count": 157,
   "outputs": [
    {
     "data": {
      "text/plain": "<Figure size 1200x825 with 1 Axes>",
      "image/png": "[encoded data removed]"
     },
     "metadata": {},
     "output_type": "display_data"
    }
   ],
   "source": [
    "# Plotte die ersten Ebenen des Entscheidungsbaummmodells\n",
    "from sklearn.tree import plot_tree\n",
    "from matplotlib import pyplot as plt\n",
    "\n",
    "plt.figure(dpi=150)\n",
    "plot_tree(model_dt,\n",
    "          max_depth=2,\n",
    "          feature_names=data.columns,\n",
    "          class_names=['Not BARBUNYA','BARBUNYA'],\n",
    "          rounded=True,\n",
    "          filled=True,\n",
    "          fontsize=8);"
   ],
   "metadata": {
    "collapsed": false,
    "pycharm": {
     "name": "#%%\n"
    }
   }
  },
  {
   "cell_type": "code",
   "execution_count": 158,
   "outputs": [
    {
     "data": {
      "text/plain": "Index(['EquivDiameter', 'ShapeFactor1', 'ShapeFactor2', 'ShapeFactor3'], dtype='object')"
     },
     "execution_count": 158,
     "metadata": {},
     "output_type": "execute_result"
    }
   ],
   "source": [
    "data.columns"
   ],
   "metadata": {
    "collapsed": false,
    "pycharm": {
     "name": "#%%\n"
    }
   }
  },
  {
   "cell_type": "code",
   "execution_count": 159,
   "outputs": [
    {
     "name": "stdout",
     "output_type": "stream",
     "text": [
      "              precision    recall  f1-score   support\n",
      "\n",
      "       False       0.96      0.96      0.96      2459\n",
      "        True       0.65      0.66      0.66       264\n",
      "\n",
      "    accuracy                           0.93      2723\n",
      "   macro avg       0.81      0.81      0.81      2723\n",
      "weighted avg       0.93      0.93      0.93      2723\n",
      "\n"
     ]
    }
   ],
   "source": [
    "y_predicted_test_dt = model_dt.predict(X_test)\n",
    "print(classification_report(y_test,y_predicted_test_dt))"
   ],
   "metadata": {
    "collapsed": false,
    "pycharm": {
     "name": "#%%\n"
    }
   }
  },
  {
   "cell_type": "markdown",
   "source": [
    "# Random Forest"
   ],
   "metadata": {
    "collapsed": false
   }
  },
  {
   "cell_type": "code",
   "execution_count": 160,
   "outputs": [],
   "source": [
    "from sklearn.ensemble import RandomForestClassifier\n",
    "\n",
    "model_rf = RandomForestClassifier(random_state=20)\n",
    "model_rf.fit(X_train, y_train)\n",
    "y_predicted_test_rf = model_rf.predict(X_test)"
   ],
   "metadata": {
    "collapsed": false,
    "pycharm": {
     "name": "#%%\n"
    }
   }
  },
  {
   "cell_type": "code",
   "execution_count": 161,
   "outputs": [
    {
     "name": "stdout",
     "output_type": "stream",
     "text": [
      "              precision    recall  f1-score   support\n",
      "\n",
      "       False       0.97      0.98      0.97      2459\n",
      "        True       0.78      0.70      0.74       264\n",
      "\n",
      "    accuracy                           0.95      2723\n",
      "   macro avg       0.87      0.84      0.86      2723\n",
      "weighted avg       0.95      0.95      0.95      2723\n",
      "\n"
     ]
    }
   ],
   "source": [
    "print(classification_report(y_test,y_predicted_test_rf))"
   ],
   "metadata": {
    "collapsed": false,
    "pycharm": {
     "name": "#%%\n"
    }
   }
  },
  {
   "cell_type": "code",
   "execution_count": 162,
   "outputs": [
    {
     "data": {
      "text/plain": "array([0.23895268, 0.2495993 , 0.30430666, 0.20714136])"
     },
     "execution_count": 162,
     "metadata": {},
     "output_type": "execute_result"
    }
   ],
   "source": [
    "model_rf.feature_importances_"
   ],
   "metadata": {
    "collapsed": false,
    "pycharm": {
     "name": "#%%\n"
    }
   }
  },
  {
   "cell_type": "code",
   "execution_count": 163,
   "outputs": [
    {
     "data": {
      "text/plain": "EquivDiameter    0.238953\nShapeFactor1     0.249599\nShapeFactor2     0.304307\nShapeFactor3     0.207141\ndtype: float64"
     },
     "execution_count": 163,
     "metadata": {},
     "output_type": "execute_result"
    }
   ],
   "source": [
    "pd.Series(model_rf.feature_importances_,index=data.columns)"
   ],
   "metadata": {
    "collapsed": false,
    "pycharm": {
     "name": "#%%\n"
    }
   }
  },
  {
   "cell_type": "code",
   "execution_count": 164,
   "outputs": [
    {
     "data": {
      "text/plain": "ShapeFactor2     0.304307\nShapeFactor1     0.249599\nEquivDiameter    0.238953\nShapeFactor3     0.207141\ndtype: float64"
     },
     "execution_count": 164,
     "metadata": {},
     "output_type": "execute_result"
    }
   ],
   "source": [
    "pd.Series(model_rf.feature_importances_,index=data.columns).sort_values(ascending=False)\n",
    "# Wie oft habe ich nach einem feature gesplittet"
   ],
   "metadata": {
    "collapsed": false,
    "pycharm": {
     "name": "#%%\n"
    }
   }
  },
  {
   "cell_type": "markdown",
   "source": [
    "# Modelle optimieren"
   ],
   "metadata": {
    "collapsed": false
   }
  },
  {
   "cell_type": "code",
   "execution_count": 165,
   "outputs": [
    {
     "name": "stdout",
     "output_type": "stream",
     "text": [
      "Zeilen in Training und Testing:  10888 2723\n",
      "Zeilen in Training und Testing:  10889 2722\n",
      "Zeilen in Training und Testing:  10889 2722\n",
      "Zeilen in Training und Testing:  10889 2722\n",
      "Zeilen in Training und Testing:  10889 2722\n"
     ]
    }
   ],
   "source": [
    "from sklearn.model_selection import StratifiedKFold\n",
    "\n",
    "cv_splitter = StratifiedKFold(shuffle=True, random_state=42)\n",
    "splits = cv_splitter.split(X, y)\n",
    "for train_index, test_index in splits:\n",
    "    print('Zeilen in Training und Testing: ', len(train_index), len(test_index))"
   ],
   "metadata": {
    "collapsed": false,
    "pycharm": {
     "name": "#%%\n"
    }
   }
  },
  {
   "cell_type": "code",
   "execution_count": 166,
   "outputs": [
    {
     "data": {
      "text/plain": "array([    0,     1,     3, ..., 13608, 13609, 13610])"
     },
     "execution_count": 166,
     "metadata": {},
     "output_type": "execute_result"
    }
   ],
   "source": [
    "train_index\n",
    "# Einträge in X die in dem Trainingset drin sind\n",
    "# In dem letzten Fold waren Zeilen 0, 1, 3, 4, 5, 6, 8..."
   ],
   "metadata": {
    "collapsed": false,
    "pycharm": {
     "name": "#%%\n"
    }
   }
  },
  {
   "cell_type": "code",
   "execution_count": null,
   "outputs": [],
   "source": [
    "from sklearn.model_selection import cross_validate\n",
    "\n",
    "model = RandomForestClassifier(max_depth=5, min_samples_split=100,n_estimators=90, min_samples_leaf= 1,random_state=42)\n",
    "scores = cross_validate(model, X, y,\n",
    "                        cv=cv_splitter,\n",
    "                        scoring=['f1', 'precision', 'recall'],\n",
    "                        return_train_score=True)\n",
    "scores['test_f1'].mean().round(4)"
   ],
   "metadata": {
    "collapsed": false,
    "pycharm": {
     "name": "#%%\n"
    }
   }
  },
  {
   "cell_type": "code",
   "execution_count": 238,
   "outputs": [
    {
     "data": {
      "text/plain": "<Figure size 576x396 with 1 Axes>",
      "image/png": "[encoded data removed]"
     },
     "metadata": {},
     "output_type": "display_data"
    },
    {
     "data": {
      "text/plain": "<AxesSubplot:title={'center':'Validation Curve for RandomForestClassifier'}, xlabel='max_depth', ylabel='score'>"
     },
     "execution_count": 238,
     "metadata": {},
     "output_type": "execute_result"
    }
   ],
   "source": [
    "from yellowbrick.model_selection import ValidationCurve\n",
    "\n",
    "viz = ValidationCurve(\n",
    "    model,\n",
    "    param_name=\"max_depth\",\n",
    "    param_range=range(1,10),\n",
    "# range(1,10) heißt 1-9 x)\n",
    "    cv=cv_splitter,\n",
    "    scoring=\"f1\"\n",
    ")\n",
    "viz.fit(X, y)\n",
    "viz.show()"
   ],
   "metadata": {
    "collapsed": false,
    "pycharm": {
     "name": "#%%\n"
    }
   }
  }
 ],
 "metadata": {
  "kernelspec": {
   "display_name": "Python 3",
   "language": "python",
   "name": "python3"
  },
  "language_info": {
   "codemirror_mode": {
    "name": "ipython",
    "version": 2
   },
   "file_extension": ".py",
   "mimetype": "text/x-python",
   "name": "python",
   "nbconvert_exporter": "python",
   "pygments_lexer": "ipython2",
   "version": "2.7.6"
  }
 },
 "nbformat": 4,
 "nbformat_minor": 0
}